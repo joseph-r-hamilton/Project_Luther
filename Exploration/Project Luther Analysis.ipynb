{
 "cells": [
  {
   "cell_type": "markdown",
   "metadata": {},
   "source": [
    "# Project Luther - Analysis"
   ]
  },
  {
   "cell_type": "code",
   "execution_count": null,
   "metadata": {
    "collapsed": true
   },
   "outputs": [],
   "source": []
  },
  {
   "cell_type": "code",
   "execution_count": 2,
   "metadata": {
    "ExecuteTime": {
     "end_time": "2018-01-31T05:08:54.827504Z",
     "start_time": "2018-01-31T05:08:54.808333Z"
    }
   },
   "outputs": [],
   "source": [
    "import numpy as np\n",
    "import pandas as pd\n",
    "\n",
    "import dateutil.parser\n",
    "import datetime\n",
    "from datetime import timedelta\n",
    "import math\n",
    "import calendar\n",
    "\n",
    "import statsmodels.api as sm\n",
    "import statsmodels\n",
    "import seaborn as sns\n",
    "from numpy import linalg\n",
    "import patsy\n",
    "\n",
    "import pandas as pd\n",
    "from pymongo import MongoClient\n",
    "\n",
    "from statsmodels.formula.api import ols\n",
    "\n",
    "import matplotlib.pyplot as plt\n",
    "\n",
    "%matplotlib inline"
   ]
  },
  {
   "cell_type": "markdown",
   "metadata": {
    "collapsed": true,
    "heading_collapsed": true
   },
   "source": [
    "## Pull in scraped data"
   ]
  },
  {
   "cell_type": "markdown",
   "metadata": {
    "hidden": true
   },
   "source": [
    "The data from our scraping resides in a Mongo database.\n",
    "\n",
    "Let's go get it..."
   ]
  },
  {
   "cell_type": "code",
   "execution_count": 3,
   "metadata": {
    "ExecuteTime": {
     "end_time": "2018-01-31T05:08:57.173171Z",
     "start_time": "2018-01-31T05:08:57.163804Z"
    },
    "collapsed": true,
    "hidden": true
   },
   "outputs": [],
   "source": [
    "client = MongoClient()\n",
    "db = client.willco"
   ]
  },
  {
   "cell_type": "code",
   "execution_count": 4,
   "metadata": {
    "ExecuteTime": {
     "end_time": "2018-01-31T05:09:00.146163Z",
     "start_time": "2018-01-31T05:08:59.645651Z"
    },
    "collapsed": true,
    "hidden": true
   },
   "outputs": [],
   "source": [
    "df = pd.DataFrame(list(db.PropertyInfo.find()))"
   ]
  },
  {
   "cell_type": "markdown",
   "metadata": {
    "hidden": true
   },
   "source": [
    "Pulling from Mongo orders columns alphabetically (and adds an ID column).\n",
    "Reorganizing the data columns to be more in line with how it's presented on the website..."
   ]
  },
  {
   "cell_type": "code",
   "execution_count": 17,
   "metadata": {
    "ExecuteTime": {
     "end_time": "2018-01-30T21:56:25.833623Z",
     "start_time": "2018-01-30T21:56:25.787400Z"
    },
    "collapsed": true,
    "hidden": true
   },
   "outputs": [],
   "source": [
    "df = df[[\n",
    "    'PIN', 'PropClass', 'Address', 'City', 'Zip', 'SaleDate', 'SaleAmt',\n",
    "    'TaxRate', 'ASL', 'ASFL', 'AI', 'ASB', 'ASFB', 'ASTotal', 'ASFTotal',\n",
    "    'Subdivision', 'FullBath', 'Style', 'HalfBath', 'LivingSqFt', 'CentralAir',\n",
    "    'BldgSqFt', 'Fireplace', 'YearBuilt', 'Porch', 'Basement', 'Attic',\n",
    "    'Garage', 'Lot', 'Block', 'Unit', 'Building', 'Area', 'Status'\n",
    "]]"
   ]
  },
  {
   "cell_type": "code",
   "execution_count": 18,
   "metadata": {
    "ExecuteTime": {
     "end_time": "2018-01-30T21:56:33.691019Z",
     "start_time": "2018-01-30T21:56:33.667671Z"
    },
    "hidden": true
   },
   "outputs": [
    {
     "data": {
      "text/html": [
       "<div>\n",
       "<style>\n",
       "    .dataframe thead tr:only-child th {\n",
       "        text-align: right;\n",
       "    }\n",
       "\n",
       "    .dataframe thead th {\n",
       "        text-align: left;\n",
       "    }\n",
       "\n",
       "    .dataframe tbody tr th {\n",
       "        vertical-align: top;\n",
       "    }\n",
       "</style>\n",
       "<table border=\"1\" class=\"dataframe\">\n",
       "  <thead>\n",
       "    <tr style=\"text-align: right;\">\n",
       "      <th></th>\n",
       "      <th>PIN</th>\n",
       "      <th>PropClass</th>\n",
       "      <th>Address</th>\n",
       "      <th>City</th>\n",
       "      <th>Zip</th>\n",
       "      <th>SaleDate</th>\n",
       "      <th>SaleAmt</th>\n",
       "      <th>TaxRate</th>\n",
       "      <th>ASL</th>\n",
       "      <th>ASFL</th>\n",
       "      <th>...</th>\n",
       "      <th>Porch</th>\n",
       "      <th>Basement</th>\n",
       "      <th>Attic</th>\n",
       "      <th>Garage</th>\n",
       "      <th>Lot</th>\n",
       "      <th>Block</th>\n",
       "      <th>Unit</th>\n",
       "      <th>Building</th>\n",
       "      <th>Area</th>\n",
       "      <th>Status</th>\n",
       "    </tr>\n",
       "  </thead>\n",
       "  <tbody>\n",
       "    <tr>\n",
       "      <th>0</th>\n",
       "      <td>04-10-01-101-001-0000</td>\n",
       "      <td>COMMERCIAL</td>\n",
       "      <td>2800 SCHWEITZER RD</td>\n",
       "      <td>JOLIET</td>\n",
       "      <td>60421</td>\n",
       "      <td>N/A</td>\n",
       "      <td>N/A</td>\n",
       "      <td>8.5817 (2016)</td>\n",
       "      <td>41,990</td>\n",
       "      <td>0</td>\n",
       "      <td>...</td>\n",
       "      <td>NO</td>\n",
       "      <td>NONE</td>\n",
       "      <td>NO</td>\n",
       "      <td>NONE</td>\n",
       "      <td>1</td>\n",
       "      <td>N/A</td>\n",
       "      <td>N/A</td>\n",
       "      <td>N/A</td>\n",
       "      <td>N/A</td>\n",
       "      <td>N/A</td>\n",
       "    </tr>\n",
       "    <tr>\n",
       "      <th>1</th>\n",
       "      <td>05-06-01-101-001-0000</td>\n",
       "      <td>COMMERCIAL</td>\n",
       "      <td>1202 ESSINGTON RD</td>\n",
       "      <td>JOLIET</td>\n",
       "      <td>60435</td>\n",
       "      <td>10/19/1987</td>\n",
       "      <td>$140,000</td>\n",
       "      <td>10.2841 (2016)</td>\n",
       "      <td>149,410</td>\n",
       "      <td>0</td>\n",
       "      <td>...</td>\n",
       "      <td>NO</td>\n",
       "      <td>???</td>\n",
       "      <td>NO</td>\n",
       "      <td>ATTACHED</td>\n",
       "      <td>N/A</td>\n",
       "      <td>N/A</td>\n",
       "      <td>N/A</td>\n",
       "      <td>N/A</td>\n",
       "      <td>N/A</td>\n",
       "      <td>N/A</td>\n",
       "    </tr>\n",
       "  </tbody>\n",
       "</table>\n",
       "<p>2 rows × 34 columns</p>\n",
       "</div>"
      ],
      "text/plain": [
       "                     PIN   PropClass             Address    City    Zip  \\\n",
       "0  04-10-01-101-001-0000  COMMERCIAL  2800 SCHWEITZER RD  JOLIET  60421   \n",
       "1  05-06-01-101-001-0000  COMMERCIAL   1202 ESSINGTON RD  JOLIET  60435   \n",
       "\n",
       "     SaleDate   SaleAmt         TaxRate      ASL ASFL  ...   Porch Basement  \\\n",
       "0         N/A       N/A   8.5817 (2016)   41,990    0  ...      NO     NONE   \n",
       "1  10/19/1987  $140,000  10.2841 (2016)  149,410    0  ...      NO      ???   \n",
       "\n",
       "  Attic    Garage  Lot Block Unit Building Area Status  \n",
       "0    NO      NONE    1   N/A  N/A      N/A  N/A    N/A  \n",
       "1    NO  ATTACHED  N/A   N/A  N/A      N/A  N/A    N/A  \n",
       "\n",
       "[2 rows x 34 columns]"
      ]
     },
     "execution_count": 18,
     "metadata": {},
     "output_type": "execute_result"
    }
   ],
   "source": [
    "df.head()"
   ]
  },
  {
   "cell_type": "markdown",
   "metadata": {},
   "source": [
    "## Massage the Data"
   ]
  },
  {
   "cell_type": "markdown",
   "metadata": {},
   "source": [
    "The data is stored in the format or fashion as it existed on the website.  We need a number of\n",
    "transformations in order to get the data where we can use it."
   ]
  },
  {
   "cell_type": "markdown",
   "metadata": {
    "heading_collapsed": true
   },
   "source": [
    "### Encapsulate the changes in a function"
   ]
  },
  {
   "cell_type": "code",
   "execution_count": null,
   "metadata": {
    "collapsed": true,
    "hidden": true,
    "run_control": {
     "marked": false
    }
   },
   "outputs": [],
   "source": [
    "def masseuse(data):\n",
    "    ''' Initial field transformations to facilitate further analysis\n",
    "    Input: data - the dataframe\n",
    "    Changes are made in place.\n",
    "    '''\n",
    "    \n",
    "    data['SaleDate'] = data['SaleDate'].apply(lambda x: dateutil.parser.parse(x))\n",
    "\n",
    "    data['Longevity'] = data['SaleDate'].apply(lambda x: dateutil.parser.parse('2018-01-01') - x)\n",
    "\n",
    "    data['Longevity']=data['Longevity'].apply(lambda x: x.total_seconds()/86400.)\n",
    "\n",
    "    data['SaleAmt']=data['SaleAmt'].replace('[\\$,]', '', regex=True).astype(float)\n",
    "\n",
    "    data['TaxRate']=data['TaxRate'].replace('\\(\\d+\\)', '', regex=True).astype(float)\n",
    "\n",
    "    data['ASTotal']=data['ASTotal'].replace('[,]', '', regex=True).astype(float)\n",
    "\n",
    "    data['ASFTotal']=data['ASFTotal'].replace('[,]', '', regex=True).astype(float)\n",
    "\n",
    "    data['LivingSqFt']=data['LivingSqFt'].replace(' Sq. Feet', '', regex=True).astype(float)\n",
    "\n",
    "    data['BldgSqFt']=data['BldgSqFt'].replace(' Sq. Feet', '', regex=True).astype(float)\n",
    "\n",
    "    data['CentralAir'].replace('YES',1.,inplace=True)\n",
    "    data['CentralAir'].replace('NO',0.,inplace=True)\n",
    "    data['CentralAir'] = data['CentralAir'].astype(float)\n",
    "\n",
    "    data['Fireplace'].replace('YES',1.,inplace=True)\n",
    "    data['Fireplace'].replace('NO',0.,inplace=True)\n",
    "    data['Fireplace'] = data['Fireplace'].astype(float)\n",
    "\n",
    "    data['Porch'].replace('YES',1.,inplace=True)\n",
    "    data['Porch'].replace('NO',0.,inplace=True)\n",
    "    data['Porch'] = data['Porch'].astype(float)"
   ]
  },
  {
   "cell_type": "markdown",
   "metadata": {},
   "source": [
    "### Implement the Changes"
   ]
  },
  {
   "cell_type": "code",
   "execution_count": null,
   "metadata": {
    "collapsed": true
   },
   "outputs": [],
   "source": [
    "masseuse()"
   ]
  },
  {
   "cell_type": "markdown",
   "metadata": {},
   "source": [
    "## Prepare to Model"
   ]
  },
  {
   "cell_type": "markdown",
   "metadata": {},
   "source": [
    "### Remove rows with no target data"
   ]
  },
  {
   "cell_type": "code",
   "execution_count": null,
   "metadata": {
    "collapsed": true
   },
   "outputs": [],
   "source": []
  },
  {
   "cell_type": "markdown",
   "metadata": {},
   "source": [
    "### Select rows with data for all chosen features"
   ]
  },
  {
   "cell_type": "markdown",
   "metadata": {},
   "source": [
    "For the most part, the records available from our data source either has complete information or a portion of the information is simply marked unavailable.  Therefore, when this portion of data is missing for a feature, it's likely missing for the same set of features."
   ]
  },
  {
   "cell_type": "code",
   "execution_count": null,
   "metadata": {
    "collapsed": true
   },
   "outputs": [],
   "source": []
  },
  {
   "cell_type": "markdown",
   "metadata": {},
   "source": [
    "### Outlier Treatment"
   ]
  },
  {
   "cell_type": "markdown",
   "metadata": {},
   "source": [
    "Earlier exploration with smaller datasets showed that a number of our features have significant outliers.  Switching to log helped to capture the data better but there were still outliers."
   ]
  },
  {
   "cell_type": "markdown",
   "metadata": {},
   "source": [
    "#### Exploration"
   ]
  },
  {
   "cell_type": "code",
   "execution_count": null,
   "metadata": {
    "collapsed": true
   },
   "outputs": [],
   "source": []
  },
  {
   "cell_type": "markdown",
   "metadata": {},
   "source": [
    "#### Decisions"
   ]
  },
  {
   "cell_type": "code",
   "execution_count": null,
   "metadata": {
    "collapsed": true
   },
   "outputs": [],
   "source": []
  },
  {
   "cell_type": "markdown",
   "metadata": {
    "ExecuteTime": {
     "end_time": "2018-01-31T16:29:33.486453Z",
     "start_time": "2018-01-31T16:29:33.484039Z"
    }
   },
   "source": [
    "### Prepare the Model"
   ]
  },
  {
   "cell_type": "code",
   "execution_count": null,
   "metadata": {
    "collapsed": true
   },
   "outputs": [],
   "source": []
  },
  {
   "cell_type": "markdown",
   "metadata": {},
   "source": [
    "## Model Execution"
   ]
  },
  {
   "cell_type": "markdown",
   "metadata": {},
   "source": [
    "Text"
   ]
  },
  {
   "cell_type": "code",
   "execution_count": null,
   "metadata": {
    "collapsed": true
   },
   "outputs": [],
   "source": []
  }
 ],
 "metadata": {
  "kernelspec": {
   "display_name": "Python 3",
   "language": "python",
   "name": "python3"
  },
  "language_info": {
   "codemirror_mode": {
    "name": "ipython",
    "version": 3
   },
   "file_extension": ".py",
   "mimetype": "text/x-python",
   "name": "python",
   "nbconvert_exporter": "python",
   "pygments_lexer": "ipython3",
   "version": "3.6.3"
  },
  "toc": {
   "nav_menu": {},
   "number_sections": true,
   "sideBar": true,
   "skip_h1_title": true,
   "toc_cell": false,
   "toc_position": {},
   "toc_section_display": "block",
   "toc_window_display": false
  },
  "varInspector": {
   "cols": {
    "lenName": 16,
    "lenType": 16,
    "lenVar": 40
   },
   "kernels_config": {
    "python": {
     "delete_cmd_postfix": "",
     "delete_cmd_prefix": "del ",
     "library": "var_list.py",
     "varRefreshCmd": "print(var_dic_list())"
    },
    "r": {
     "delete_cmd_postfix": ") ",
     "delete_cmd_prefix": "rm(",
     "library": "var_list.r",
     "varRefreshCmd": "cat(var_dic_list()) "
    }
   },
   "types_to_exclude": [
    "module",
    "function",
    "builtin_function_or_method",
    "instance",
    "_Feature"
   ],
   "window_display": false
  }
 },
 "nbformat": 4,
 "nbformat_minor": 2
}
