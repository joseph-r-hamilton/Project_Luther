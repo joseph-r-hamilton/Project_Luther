{
 "cells": [
  {
   "cell_type": "markdown",
   "metadata": {},
   "source": [
    "# Project Luther - Analysis"
   ]
  },
  {
   "cell_type": "code",
   "execution_count": null,
   "metadata": {
    "collapsed": true
   },
   "outputs": [],
   "source": []
  },
  {
   "cell_type": "code",
   "execution_count": 287,
   "metadata": {
    "ExecuteTime": {
     "end_time": "2018-02-01T20:31:33.173612Z",
     "start_time": "2018-02-01T20:31:33.136870Z"
    },
    "collapsed": true,
    "run_control": {
     "marked": false
    }
   },
   "outputs": [],
   "source": [
    "import numpy as np\n",
    "import pandas as pd\n",
    "\n",
    "import dateutil.parser\n",
    "import datetime\n",
    "from datetime import timedelta\n",
    "import math\n",
    "import calendar\n",
    "\n",
    "import statsmodels.api as sm\n",
    "import statsmodels\n",
    "import seaborn as sns\n",
    "from numpy import linalg\n",
    "import patsy\n",
    "\n",
    "from sklearn.preprocessing import StandardScaler\n",
    "\n",
    "from sklearn.linear_model import LinearRegression\n",
    "from sklearn import metrics\n",
    "\n",
    "from sklearn import feature_selection as f_select\n",
    "\n",
    "from sklearn.preprocessing import PolynomialFeatures\n",
    "from sklearn.pipeline import make_pipeline\n",
    "from sklearn.linear_model import Ridge\n",
    "from sklearn.linear_model import Lasso\n",
    "\n",
    "from sklearn.model_selection import KFold\n",
    "from sklearn.model_selection import cross_val_score\n",
    "from sklearn.model_selection import cross_validate\n",
    "from sklearn.model_selection import train_test_split\n",
    "from sklearn.model_selection import learning_curve\n",
    "from sklearn.model_selection import ShuffleSplit\n",
    "\n",
    "from pymongo import MongoClient\n",
    "\n",
    "from statsmodels.formula.api import ols\n",
    "\n",
    "import matplotlib.pyplot as plt\n",
    "\n",
    "import yellowbrick as yb\n",
    "from yellowbrick.regressor.residuals import ResidualsPlot\n",
    "\n",
    "%matplotlib inline"
   ]
  },
  {
   "cell_type": "markdown",
   "metadata": {
    "collapsed": true
   },
   "source": [
    "## Pull in scraped data"
   ]
  },
  {
   "cell_type": "markdown",
   "metadata": {},
   "source": [
    "### Data Import"
   ]
  },
  {
   "cell_type": "markdown",
   "metadata": {},
   "source": [
    "The data from our scraping resides in a Mongo database.\n",
    "\n",
    "Let's go get it..."
   ]
  },
  {
   "cell_type": "code",
   "execution_count": 315,
   "metadata": {
    "ExecuteTime": {
     "end_time": "2018-02-02T05:49:16.317726Z",
     "start_time": "2018-02-02T05:49:16.309915Z"
    },
    "collapsed": true
   },
   "outputs": [],
   "source": [
    "client = MongoClient()\n",
    "db = client.willco"
   ]
  },
  {
   "cell_type": "code",
   "execution_count": 316,
   "metadata": {
    "ExecuteTime": {
     "end_time": "2018-02-02T05:49:19.646732Z",
     "start_time": "2018-02-02T05:49:18.073895Z"
    },
    "collapsed": true
   },
   "outputs": [],
   "source": [
    "df = pd.DataFrame(\n",
    "    list(db.PropertyInfo.find())\n",
    ")"
   ]
  },
  {
   "cell_type": "markdown",
   "metadata": {},
   "source": [
    "Pulling from Mongo doesn't automatically set NaN the way read_csv does.\n",
    "\n",
    "So, let's take care of that here."
   ]
  },
  {
   "cell_type": "code",
   "execution_count": 317,
   "metadata": {
    "ExecuteTime": {
     "end_time": "2018-02-02T05:49:22.305869Z",
     "start_time": "2018-02-02T05:49:21.875302Z"
    }
   },
   "outputs": [
    {
     "data": {
      "text/plain": [
       "(59570, 35)"
      ]
     },
     "execution_count": 317,
     "metadata": {},
     "output_type": "execute_result"
    }
   ],
   "source": [
    "df.replace('N/A',np.NaN,inplace=True)\n",
    "df.shape"
   ]
  },
  {
   "cell_type": "markdown",
   "metadata": {},
   "source": [
    "Pulling from Mongo orders columns alphabetically (and adds an ID column).\n",
    "Reorganizing the data columns to be more in line with how it's presented on the website..."
   ]
  },
  {
   "cell_type": "code",
   "execution_count": 318,
   "metadata": {
    "ExecuteTime": {
     "end_time": "2018-02-02T05:49:25.292944Z",
     "start_time": "2018-02-02T05:49:25.249272Z"
    },
    "collapsed": true
   },
   "outputs": [],
   "source": [
    "df = df[[\n",
    "    'PIN', 'PropClass', 'Address', 'City', 'Zip', 'SaleDate', 'SaleAmt',\n",
    "    'TaxRate', 'ASL', 'ASFL', 'AI', 'ASB', 'ASFB', 'ASTotal', 'ASFTotal',\n",
    "    'Subdivision', 'FullBath', 'Style', 'HalfBath', 'LivingSqFt', 'CentralAir',\n",
    "    'BldgSqFt', 'Fireplace', 'YearBuilt', 'Porch', 'Basement', 'Attic',\n",
    "    'Garage', 'Lot', 'Block', 'Unit', 'Building', 'Area', 'Status'\n",
    "]]"
   ]
  },
  {
   "cell_type": "code",
   "execution_count": 319,
   "metadata": {
    "ExecuteTime": {
     "end_time": "2018-02-02T05:49:25.583430Z",
     "start_time": "2018-02-02T05:49:25.551781Z"
    }
   },
   "outputs": [
    {
     "data": {
      "text/html": [
       "<div>\n",
       "<style>\n",
       "    .dataframe thead tr:only-child th {\n",
       "        text-align: right;\n",
       "    }\n",
       "\n",
       "    .dataframe thead th {\n",
       "        text-align: left;\n",
       "    }\n",
       "\n",
       "    .dataframe tbody tr th {\n",
       "        vertical-align: top;\n",
       "    }\n",
       "</style>\n",
       "<table border=\"1\" class=\"dataframe\">\n",
       "  <thead>\n",
       "    <tr style=\"text-align: right;\">\n",
       "      <th></th>\n",
       "      <th>PIN</th>\n",
       "      <th>PropClass</th>\n",
       "      <th>Address</th>\n",
       "      <th>City</th>\n",
       "      <th>Zip</th>\n",
       "      <th>SaleDate</th>\n",
       "      <th>SaleAmt</th>\n",
       "      <th>TaxRate</th>\n",
       "      <th>ASL</th>\n",
       "      <th>ASFL</th>\n",
       "      <th>...</th>\n",
       "      <th>Porch</th>\n",
       "      <th>Basement</th>\n",
       "      <th>Attic</th>\n",
       "      <th>Garage</th>\n",
       "      <th>Lot</th>\n",
       "      <th>Block</th>\n",
       "      <th>Unit</th>\n",
       "      <th>Building</th>\n",
       "      <th>Area</th>\n",
       "      <th>Status</th>\n",
       "    </tr>\n",
       "  </thead>\n",
       "  <tbody>\n",
       "    <tr>\n",
       "      <th>0</th>\n",
       "      <td>04-10-01-101-001-0000</td>\n",
       "      <td>COMMERCIAL</td>\n",
       "      <td>2800 SCHWEITZER RD</td>\n",
       "      <td>JOLIET</td>\n",
       "      <td>60421</td>\n",
       "      <td>NaN</td>\n",
       "      <td>NaN</td>\n",
       "      <td>8.5817 (2016)</td>\n",
       "      <td>41,990</td>\n",
       "      <td>0</td>\n",
       "      <td>...</td>\n",
       "      <td>NO</td>\n",
       "      <td>NONE</td>\n",
       "      <td>NO</td>\n",
       "      <td>NONE</td>\n",
       "      <td>1</td>\n",
       "      <td>NaN</td>\n",
       "      <td>NaN</td>\n",
       "      <td>NaN</td>\n",
       "      <td>NaN</td>\n",
       "      <td>NaN</td>\n",
       "    </tr>\n",
       "    <tr>\n",
       "      <th>1</th>\n",
       "      <td>05-06-01-101-001-0000</td>\n",
       "      <td>COMMERCIAL</td>\n",
       "      <td>1202 ESSINGTON RD</td>\n",
       "      <td>JOLIET</td>\n",
       "      <td>60435</td>\n",
       "      <td>10/19/1987</td>\n",
       "      <td>$140,000</td>\n",
       "      <td>10.2841 (2016)</td>\n",
       "      <td>149,410</td>\n",
       "      <td>0</td>\n",
       "      <td>...</td>\n",
       "      <td>NO</td>\n",
       "      <td>???</td>\n",
       "      <td>NO</td>\n",
       "      <td>ATTACHED</td>\n",
       "      <td>NaN</td>\n",
       "      <td>NaN</td>\n",
       "      <td>NaN</td>\n",
       "      <td>NaN</td>\n",
       "      <td>NaN</td>\n",
       "      <td>NaN</td>\n",
       "    </tr>\n",
       "    <tr>\n",
       "      <th>2</th>\n",
       "      <td>01-24-02-100-001-0000</td>\n",
       "      <td>FARMING</td>\n",
       "      <td>32801 S WEST RIVER RD</td>\n",
       "      <td>WILMINGTON</td>\n",
       "      <td>60481</td>\n",
       "      <td>NaN</td>\n",
       "      <td>NaN</td>\n",
       "      <td>6.1960 (2016)</td>\n",
       "      <td>6,331</td>\n",
       "      <td>47,103</td>\n",
       "      <td>...</td>\n",
       "      <td>NaN</td>\n",
       "      <td>NaN</td>\n",
       "      <td>NaN</td>\n",
       "      <td>NaN</td>\n",
       "      <td>NaN</td>\n",
       "      <td>NaN</td>\n",
       "      <td>NaN</td>\n",
       "      <td>NaN</td>\n",
       "      <td>NaN</td>\n",
       "      <td>NaN</td>\n",
       "    </tr>\n",
       "    <tr>\n",
       "      <th>3</th>\n",
       "      <td>01-24-03-100-003-0000</td>\n",
       "      <td>RESIDENTIAL</td>\n",
       "      <td>S RT 53</td>\n",
       "      <td>WILMINGTON</td>\n",
       "      <td>60481</td>\n",
       "      <td>01/01/2016</td>\n",
       "      <td>$33,350</td>\n",
       "      <td>6.1960 (2016)</td>\n",
       "      <td>1,657</td>\n",
       "      <td>0</td>\n",
       "      <td>...</td>\n",
       "      <td>NaN</td>\n",
       "      <td>NaN</td>\n",
       "      <td>NaN</td>\n",
       "      <td>NaN</td>\n",
       "      <td>NaN</td>\n",
       "      <td>NaN</td>\n",
       "      <td>NaN</td>\n",
       "      <td>NaN</td>\n",
       "      <td>NaN</td>\n",
       "      <td>NaN</td>\n",
       "    </tr>\n",
       "    <tr>\n",
       "      <th>4</th>\n",
       "      <td>01-24-03-100-004-0000</td>\n",
       "      <td>RESIDENTIAL</td>\n",
       "      <td>32849 S RT 53</td>\n",
       "      <td>WILMINGTON</td>\n",
       "      <td>60481</td>\n",
       "      <td>NaN</td>\n",
       "      <td>NaN</td>\n",
       "      <td>6.1960 (2016)</td>\n",
       "      <td>6,602</td>\n",
       "      <td>0</td>\n",
       "      <td>...</td>\n",
       "      <td>NaN</td>\n",
       "      <td>NaN</td>\n",
       "      <td>NaN</td>\n",
       "      <td>NaN</td>\n",
       "      <td>NaN</td>\n",
       "      <td>NaN</td>\n",
       "      <td>NaN</td>\n",
       "      <td>NaN</td>\n",
       "      <td>NaN</td>\n",
       "      <td>NaN</td>\n",
       "    </tr>\n",
       "  </tbody>\n",
       "</table>\n",
       "<p>5 rows × 34 columns</p>\n",
       "</div>"
      ],
      "text/plain": [
       "                     PIN    PropClass                Address        City  \\\n",
       "0  04-10-01-101-001-0000   COMMERCIAL     2800 SCHWEITZER RD      JOLIET   \n",
       "1  05-06-01-101-001-0000   COMMERCIAL      1202 ESSINGTON RD      JOLIET   \n",
       "2  01-24-02-100-001-0000      FARMING  32801 S WEST RIVER RD  WILMINGTON   \n",
       "3  01-24-03-100-003-0000  RESIDENTIAL                S RT 53  WILMINGTON   \n",
       "4  01-24-03-100-004-0000  RESIDENTIAL          32849 S RT 53  WILMINGTON   \n",
       "\n",
       "     Zip    SaleDate   SaleAmt         TaxRate      ASL    ASFL  ...   Porch  \\\n",
       "0  60421         NaN       NaN   8.5817 (2016)   41,990       0  ...      NO   \n",
       "1  60435  10/19/1987  $140,000  10.2841 (2016)  149,410       0  ...      NO   \n",
       "2  60481         NaN       NaN   6.1960 (2016)    6,331  47,103  ...     NaN   \n",
       "3  60481  01/01/2016   $33,350   6.1960 (2016)    1,657       0  ...     NaN   \n",
       "4  60481         NaN       NaN   6.1960 (2016)    6,602       0  ...     NaN   \n",
       "\n",
       "  Basement Attic    Garage  Lot Block Unit Building Area Status  \n",
       "0     NONE    NO      NONE    1   NaN  NaN      NaN  NaN    NaN  \n",
       "1      ???    NO  ATTACHED  NaN   NaN  NaN      NaN  NaN    NaN  \n",
       "2      NaN   NaN       NaN  NaN   NaN  NaN      NaN  NaN    NaN  \n",
       "3      NaN   NaN       NaN  NaN   NaN  NaN      NaN  NaN    NaN  \n",
       "4      NaN   NaN       NaN  NaN   NaN  NaN      NaN  NaN    NaN  \n",
       "\n",
       "[5 rows x 34 columns]"
      ]
     },
     "execution_count": 319,
     "metadata": {},
     "output_type": "execute_result"
    }
   ],
   "source": [
    "df.head()"
   ]
  },
  {
   "cell_type": "code",
   "execution_count": 320,
   "metadata": {
    "ExecuteTime": {
     "end_time": "2018-02-02T05:49:27.581552Z",
     "start_time": "2018-02-02T05:49:27.576082Z"
    }
   },
   "outputs": [
    {
     "data": {
      "text/plain": [
       "(59570, 34)"
      ]
     },
     "execution_count": 320,
     "metadata": {},
     "output_type": "execute_result"
    }
   ],
   "source": [
    "df.shape"
   ]
  },
  {
   "cell_type": "markdown",
   "metadata": {},
   "source": [
    "### Initial selections"
   ]
  },
  {
   "cell_type": "markdown",
   "metadata": {},
   "source": [
    "We've scraped more data than we need.  Let's pare it down..."
   ]
  },
  {
   "cell_type": "markdown",
   "metadata": {},
   "source": [
    "#### Focus on Residential only"
   ]
  },
  {
   "cell_type": "code",
   "execution_count": 321,
   "metadata": {
    "ExecuteTime": {
     "end_time": "2018-02-02T05:49:39.596219Z",
     "start_time": "2018-02-02T05:49:39.568435Z"
    }
   },
   "outputs": [
    {
     "data": {
      "text/plain": [
       "RESIDENTIAL    52794\n",
       "FARMING         2102\n",
       "OTHER           1985\n",
       "COMMERCIAL      1730\n",
       "INDUSTRIAL       959\n",
       "Name: PropClass, dtype: int64"
      ]
     },
     "execution_count": 321,
     "metadata": {},
     "output_type": "execute_result"
    }
   ],
   "source": [
    "df.PropClass.value_counts()"
   ]
  },
  {
   "cell_type": "code",
   "execution_count": 322,
   "metadata": {
    "ExecuteTime": {
     "end_time": "2018-02-02T05:49:44.440270Z",
     "start_time": "2018-02-02T05:49:44.389534Z"
    },
    "collapsed": true
   },
   "outputs": [],
   "source": [
    "df = df[df['PropClass'] == 'RESIDENTIAL']"
   ]
  },
  {
   "cell_type": "markdown",
   "metadata": {},
   "source": [
    "#### Remove rows with no target data"
   ]
  },
  {
   "cell_type": "code",
   "execution_count": 323,
   "metadata": {
    "ExecuteTime": {
     "end_time": "2018-02-02T05:49:48.807033Z",
     "start_time": "2018-02-02T05:49:48.407530Z"
    }
   },
   "outputs": [
    {
     "data": {
      "text/plain": [
       "(43835, 34)"
      ]
     },
     "execution_count": 323,
     "metadata": {},
     "output_type": "execute_result"
    }
   ],
   "source": [
    "#df = df[df['SaleDate'].notnull()]\n",
    "df.dropna(subset=['SaleDate'],inplace=True)\n",
    "df.shape"
   ]
  },
  {
   "cell_type": "markdown",
   "metadata": {},
   "source": [
    "## Massage the Data"
   ]
  },
  {
   "cell_type": "markdown",
   "metadata": {},
   "source": [
    "The data is stored in the format or fashion as it existed on the website.  We need a number of\n",
    "transformations in order to get the data where we can use it."
   ]
  },
  {
   "cell_type": "markdown",
   "metadata": {},
   "source": [
    "### Encapsulate the changes in a function"
   ]
  },
  {
   "cell_type": "code",
   "execution_count": 324,
   "metadata": {
    "ExecuteTime": {
     "end_time": "2018-02-02T05:49:59.194461Z",
     "start_time": "2018-02-02T05:49:59.171515Z"
    },
    "collapsed": true
   },
   "outputs": [],
   "source": [
    "df['Section'] = df['PIN'].apply(lambda x: x[:8])"
   ]
  },
  {
   "cell_type": "code",
   "execution_count": 325,
   "metadata": {
    "ExecuteTime": {
     "end_time": "2018-02-02T05:50:01.525472Z",
     "start_time": "2018-02-02T05:50:01.265047Z"
    }
   },
   "outputs": [
    {
     "data": {
      "text/plain": [
       "804"
      ]
     },
     "execution_count": 325,
     "metadata": {},
     "output_type": "execute_result"
    }
   ],
   "source": [
    "gx=df.groupby('Section').count()['PIN']\n",
    "gx[df.tail().Section]\n",
    "gx['06-03-35']"
   ]
  },
  {
   "cell_type": "code",
   "execution_count": 326,
   "metadata": {
    "ExecuteTime": {
     "end_time": "2018-02-02T05:50:09.487465Z",
     "start_time": "2018-02-02T05:50:09.392874Z"
    },
    "collapsed": true,
    "run_control": {
     "marked": false
    }
   },
   "outputs": [],
   "source": [
    "def masseuse(data):\n",
    "    ''' Initial field transformations to facilitate further analysis\n",
    "    Input: data - the dataframe\n",
    "    Changes are made in place.\n",
    "    '''\n",
    "    \n",
    "    data['Section'] = data['PIN'].apply(lambda x: x[:8])\n",
    "    gx = data.groupby('Section').count()['PIN']\n",
    "    data['Density'] = data['Section'].apply(lambda x: gx[x]).astype(float)\n",
    "    \n",
    "    data['SaleDate'] = data['SaleDate'].apply(lambda x: dateutil.parser.parse(x))\n",
    "\n",
    "    data['Longevity'] = data['SaleDate'].apply(lambda x: dateutil.parser.parse('2018-01-01') - x)\n",
    "\n",
    "    data['Longevity']=data['Longevity'].apply(lambda x: x.total_seconds()/86400.)\n",
    "\n",
    "    data['SaleAmt']=data['SaleAmt'].replace('[\\$,]', '', regex=True).astype(float)\n",
    "\n",
    "    data['TaxRate']=data['TaxRate'].replace('\\(\\d+\\)', '', regex=True).astype(float)\n",
    "\n",
    "    data['ASTotal']=data['ASTotal'].replace('[,]', '', regex=True).astype(float)\n",
    "\n",
    "    data['ASFTotal']=data['ASFTotal'].replace('[,]', '', regex=True).astype(float)\n",
    "\n",
    "    data['LivingSqFt']=data['LivingSqFt'].replace(' Sq. Feet', '', regex=True).astype(float)\n",
    "\n",
    "    data['BldgSqFt']=data['BldgSqFt'].replace(' Sq. Feet', '', regex=True).astype(float)\n",
    "\n",
    "    data['YearBuilt'] = data['YearBuilt'].astype(float)\n",
    "    data['FullBath'] = data['FullBath'].astype(float)\n",
    "    data['HalfBath'] = data['HalfBath'].astype(float)\n",
    "    \n",
    "    data['CentralAir'].replace('YES',1.,inplace=True)\n",
    "    data['CentralAir'].replace('NO',0.,inplace=True)\n",
    "    data['CentralAir'] = data['CentralAir'].astype(float)\n",
    "\n",
    "    data['Fireplace'].replace('YES',1.,inplace=True)\n",
    "    data['Fireplace'].replace('NO',0.,inplace=True)\n",
    "    data['Fireplace'] = data['Fireplace'].astype(float)\n",
    "\n",
    "    data['Porch'].replace('YES',1.,inplace=True)\n",
    "    data['Porch'].replace('NO',0.,inplace=True)\n",
    "    data['Porch'] = data['Porch'].astype(float)"
   ]
  },
  {
   "cell_type": "markdown",
   "metadata": {},
   "source": [
    "### Implement the Changes"
   ]
  },
  {
   "cell_type": "code",
   "execution_count": 327,
   "metadata": {
    "ExecuteTime": {
     "end_time": "2018-02-02T05:50:20.849786Z",
     "start_time": "2018-02-02T05:50:12.982604Z"
    },
    "collapsed": true,
    "run_control": {
     "marked": false
    }
   },
   "outputs": [],
   "source": [
    "masseuse(df)"
   ]
  },
  {
   "cell_type": "markdown",
   "metadata": {},
   "source": [
    "## Prepare to Model"
   ]
  },
  {
   "cell_type": "markdown",
   "metadata": {},
   "source": [
    "### Select rows with data for all chosen features"
   ]
  },
  {
   "cell_type": "markdown",
   "metadata": {},
   "source": [
    "For the most part, the records available from our data source either has complete information or a portion of the information is simply marked unavailable.  Therefore, when this portion of data is missing for a feature, it's likely missing for the same set of features."
   ]
  },
  {
   "cell_type": "code",
   "execution_count": 354,
   "metadata": {
    "ExecuteTime": {
     "end_time": "2018-02-02T07:31:09.299687Z",
     "start_time": "2018-02-02T07:31:09.232279Z"
    }
   },
   "outputs": [
    {
     "data": {
      "text/plain": [
       "(33338, 13)"
      ]
     },
     "execution_count": 354,
     "metadata": {},
     "output_type": "execute_result"
    }
   ],
   "source": [
    "df2 = df[[\n",
    "    'Longevity',\n",
    "    'SaleAmt',\n",
    "    'TaxRate',\n",
    "    'ASTotal',\n",
    "    'LivingSqFt',\n",
    "    'YearBuilt',\n",
    "    'FullBath',\n",
    "    'HalfBath',\n",
    "    'Fireplace',\n",
    "    'CentralAir',\n",
    "    'Porch',\n",
    "    'Section',\n",
    "    'Density'\n",
    "]]\n",
    "df2=df2[df2.notnull().all(axis=1)]\n",
    "df2.shape"
   ]
  },
  {
   "cell_type": "markdown",
   "metadata": {},
   "source": [
    "### Outlier Treatment"
   ]
  },
  {
   "cell_type": "markdown",
   "metadata": {},
   "source": [
    "Earlier exploration with smaller datasets showed that a number of our features have significant outliers.  Switching to log helped to capture the data better but there were still outliers."
   ]
  },
  {
   "cell_type": "markdown",
   "metadata": {},
   "source": [
    "#### Exploration"
   ]
  },
  {
   "cell_type": "markdown",
   "metadata": {},
   "source": [
    "The primary features to treat here are:\n",
    "\n",
    "* SaleAmt\n",
    "* ASTotal\n",
    "* LivingSqFt\n",
    "\n",
    "We could do the same for a few other fields.  But there are a number of \"sets\" or groupings of these features.  Of these, I've chosen one rather than continue with the colinearity issues.  For example, I'm using LivingSqFt and ignoring BldgSqFt."
   ]
  },
  {
   "cell_type": "markdown",
   "metadata": {},
   "source": [
    "##### Preparation"
   ]
  },
  {
   "cell_type": "code",
   "execution_count": 355,
   "metadata": {
    "ExecuteTime": {
     "end_time": "2018-02-02T07:31:15.568601Z",
     "start_time": "2018-02-02T07:31:15.551381Z"
    },
    "run_control": {
     "marked": false
    }
   },
   "outputs": [
    {
     "data": {
      "text/plain": [
       "(30306, 13)"
      ]
     },
     "execution_count": 355,
     "metadata": {},
     "output_type": "execute_result"
    }
   ],
   "source": [
    "df2 = df2[\n",
    "    (df2['SaleAmt'] != 0) &\n",
    "    (df2['LivingSqFt'] != 0) &\n",
    "    (df2['ASTotal'] != 0)\n",
    "]\n",
    "df2.shape"
   ]
  },
  {
   "cell_type": "code",
   "execution_count": 356,
   "metadata": {
    "ExecuteTime": {
     "end_time": "2018-02-02T07:31:16.526427Z",
     "start_time": "2018-02-02T07:31:16.482548Z"
    },
    "collapsed": true,
    "run_control": {
     "marked": false
    }
   },
   "outputs": [],
   "source": [
    "def explore_1(feature):\n",
    "    fig=plt.figure(figsize=(15,4))\n",
    "    ax = plt.subplot2grid((3, 2), (0, 0))\n",
    "    bp = ax.boxplot(\n",
    "        df2[feature],\n",
    "        sym='+', vert=False, patch_artist=True)\n",
    "    ax = plt.subplot2grid((3, 2), (0, 1))\n",
    "    bp = ax.hist(\n",
    "        df2[feature],\n",
    "        bins=100\n",
    "    )\n",
    "    log_feature = np.log(df2[feature])\n",
    "    ax = plt.subplot2grid((3, 2), (1, 0))\n",
    "    bp = ax.boxplot(\n",
    "        log_feature,\n",
    "        sym='+', vert=False, patch_artist=True)\n",
    "    ax = plt.subplot2grid((3, 2), (1, 1))\n",
    "    bp = ax.hist(\n",
    "        log_feature,\n",
    "        bins=100\n",
    "    )\n",
    "    q75, q25 = np.percentile(log_feature, [75 ,25])\n",
    "    iqr = q75 - q25\n",
    "    lmin = q25 - (iqr*1.5)\n",
    "    lmax = q75 + (iqr*1.5)\n",
    "    log_trimmed = log_feature[log_feature > lmin]\n",
    "    log_trimmed = log_trimmed[log_trimmed < lmax]\n",
    "    ax = plt.subplot2grid((3, 2), (2, 0))\n",
    "    bp = ax.boxplot(\n",
    "        log_trimmed,\n",
    "        sym='+', vert=False, patch_artist=True)\n",
    "    ax = plt.subplot2grid((3, 2), (2, 1))\n",
    "    bp = ax.hist(\n",
    "        log_trimmed,\n",
    "        bins=100\n",
    "    )\n",
    "    "
   ]
  },
  {
   "cell_type": "markdown",
   "metadata": {},
   "source": [
    "##### Visualization"
   ]
  },
  {
   "cell_type": "code",
   "execution_count": 357,
   "metadata": {
    "ExecuteTime": {
     "end_time": "2018-02-02T07:31:19.452952Z",
     "start_time": "2018-02-02T07:31:18.682513Z"
    }
   },
   "outputs": [
    {
     "data": {
      "image/png": "[encoded data removed]",
      "text/plain": [
       "<matplotlib.figure.Figure at 0x7f7b3c44ed30>"
      ]
     },
     "metadata": {},
     "output_type": "display_data"
    }
   ],
   "source": [
    "explore_1('Longevity')"
   ]
  },
  {
   "cell_type": "code",
   "execution_count": 358,
   "metadata": {
    "ExecuteTime": {
     "end_time": "2018-02-02T07:31:22.001451Z",
     "start_time": "2018-02-02T07:31:21.252166Z"
    }
   },
   "outputs": [
    {
     "data": {
      "image/png": "[encoded data removed]",
      "text/plain": [
       "<matplotlib.figure.Figure at 0x7f7b3be140b8>"
      ]
     },
     "metadata": {},
     "output_type": "display_data"
    }
   ],
   "source": [
    "explore_1('SaleAmt')"
   ]
  },
  {
   "cell_type": "code",
   "execution_count": 359,
   "metadata": {
    "ExecuteTime": {
     "end_time": "2018-02-02T07:31:27.122906Z",
     "start_time": "2018-02-02T07:31:25.916195Z"
    }
   },
   "outputs": [
    {
     "data": {
      "image/png": "[encoded data removed]",
      "text/plain": [
       "<matplotlib.figure.Figure at 0x7f7b30d5f198>"
      ]
     },
     "metadata": {},
     "output_type": "display_data"
    }
   ],
   "source": [
    "explore_1('ASTotal')"
   ]
  },
  {
   "cell_type": "code",
   "execution_count": 360,
   "metadata": {
    "ExecuteTime": {
     "end_time": "2018-02-02T07:31:30.674812Z",
     "start_time": "2018-02-02T07:31:29.948297Z"
    },
    "run_control": {
     "marked": true
    }
   },
   "outputs": [
    {
     "data": {
      "image/png": "[encoded data removed]",
      "text/plain": [
       "<matplotlib.figure.Figure at 0x7f7b30cc7048>"
      ]
     },
     "metadata": {},
     "output_type": "display_data"
    }
   ],
   "source": [
    "explore_1('LivingSqFt')"
   ]
  },
  {
   "cell_type": "code",
   "execution_count": null,
   "metadata": {
    "collapsed": true,
    "run_control": {
     "marked": true
    }
   },
   "outputs": [],
   "source": []
  },
  {
   "cell_type": "markdown",
   "metadata": {},
   "source": [
    "#### Decisions"
   ]
  },
  {
   "cell_type": "markdown",
   "metadata": {},
   "source": [
    "We can use patsy to do log transformation.  But let's do it here so we can further apply IQR based removal"
   ]
  },
  {
   "cell_type": "code",
   "execution_count": 363,
   "metadata": {
    "ExecuteTime": {
     "end_time": "2018-02-02T07:32:45.952005Z",
     "start_time": "2018-02-02T07:32:44.757427Z"
    },
    "run_control": {
     "marked": false
    }
   },
   "outputs": [
    {
     "data": {
      "text/plain": [
       "(27300, 17)"
      ]
     },
     "execution_count": 363,
     "metadata": {},
     "output_type": "execute_result"
    }
   ],
   "source": [
    "for feature in ['SaleAmt','ASTotal','LivingSqFt','Longevity']:\n",
    "    logf = 'Log_' + feature\n",
    "    df2[logf] = np.log(df2[feature])\n",
    "    q75, q25 = np.percentile(df2[logf], [75 ,25])\n",
    "    iqr = q75 - q25\n",
    "    lmin = q25 - (iqr*1.5)\n",
    "    lmax = q75 + (iqr*1.5)\n",
    "    df2 = df2[df2[logf]>lmin]\n",
    "    df2 = df2[df2[logf]<lmax]\n",
    "df2.shape"
   ]
  },
  {
   "cell_type": "code",
   "execution_count": 161,
   "metadata": {
    "ExecuteTime": {
     "end_time": "2018-01-31T21:29:39.805982Z",
     "start_time": "2018-01-31T21:29:39.802976Z"
    },
    "collapsed": true
   },
   "outputs": [],
   "source": [
    "# A quick cut here for prototyping...\n",
    "df2 = df2[:1000]"
   ]
  },
  {
   "cell_type": "markdown",
   "metadata": {
    "ExecuteTime": {
     "end_time": "2018-01-31T16:29:33.486453Z",
     "start_time": "2018-01-31T16:29:33.484039Z"
    }
   },
   "source": [
    "### Prepare the Model"
   ]
  },
  {
   "cell_type": "markdown",
   "metadata": {},
   "source": [
    "#### Review Correlations"
   ]
  },
  {
   "cell_type": "code",
   "execution_count": 365,
   "metadata": {
    "ExecuteTime": {
     "end_time": "2018-02-02T07:33:02.143605Z",
     "start_time": "2018-02-02T07:33:02.105893Z"
    },
    "scrolled": true
   },
   "outputs": [
    {
     "data": {
      "text/html": [
       "<div>\n",
       "<style>\n",
       "    .dataframe thead tr:only-child th {\n",
       "        text-align: right;\n",
       "    }\n",
       "\n",
       "    .dataframe thead th {\n",
       "        text-align: left;\n",
       "    }\n",
       "\n",
       "    .dataframe tbody tr th {\n",
       "        vertical-align: top;\n",
       "    }\n",
       "</style>\n",
       "<table border=\"1\" class=\"dataframe\">\n",
       "  <thead>\n",
       "    <tr style=\"text-align: right;\">\n",
       "      <th></th>\n",
       "      <th>Longevity</th>\n",
       "      <th>SaleAmt</th>\n",
       "      <th>TaxRate</th>\n",
       "      <th>ASTotal</th>\n",
       "      <th>LivingSqFt</th>\n",
       "      <th>YearBuilt</th>\n",
       "      <th>FullBath</th>\n",
       "      <th>HalfBath</th>\n",
       "      <th>Fireplace</th>\n",
       "      <th>CentralAir</th>\n",
       "      <th>Porch</th>\n",
       "      <th>Density</th>\n",
       "      <th>Log_SaleAmt</th>\n",
       "      <th>Log_ASTotal</th>\n",
       "      <th>Log_LivingSqFt</th>\n",
       "      <th>Log_Longevity</th>\n",
       "    </tr>\n",
       "  </thead>\n",
       "  <tbody>\n",
       "    <tr>\n",
       "      <th>Log_SaleAmt</th>\n",
       "      <td>-0.324790</td>\n",
       "      <td>0.956075</td>\n",
       "      <td>-0.202863</td>\n",
       "      <td>0.680784</td>\n",
       "      <td>0.586806</td>\n",
       "      <td>0.041859</td>\n",
       "      <td>0.054750</td>\n",
       "      <td>0.230793</td>\n",
       "      <td>0.299794</td>\n",
       "      <td>0.004714</td>\n",
       "      <td>0.139275</td>\n",
       "      <td>-0.133594</td>\n",
       "      <td>1.000000</td>\n",
       "      <td>0.701641</td>\n",
       "      <td>0.588082</td>\n",
       "      <td>-0.181865</td>\n",
       "    </tr>\n",
       "    <tr>\n",
       "      <th>SaleAmt</th>\n",
       "      <td>-0.282381</td>\n",
       "      <td>1.000000</td>\n",
       "      <td>-0.178728</td>\n",
       "      <td>0.745069</td>\n",
       "      <td>0.640559</td>\n",
       "      <td>0.042522</td>\n",
       "      <td>0.075237</td>\n",
       "      <td>0.258146</td>\n",
       "      <td>0.319281</td>\n",
       "      <td>-0.042849</td>\n",
       "      <td>0.148568</td>\n",
       "      <td>-0.173099</td>\n",
       "      <td>0.956075</td>\n",
       "      <td>0.731251</td>\n",
       "      <td>0.618274</td>\n",
       "      <td>-0.155813</td>\n",
       "    </tr>\n",
       "    <tr>\n",
       "      <th>CentralAir</th>\n",
       "      <td>-0.121918</td>\n",
       "      <td>-0.042849</td>\n",
       "      <td>0.167145</td>\n",
       "      <td>-0.161761</td>\n",
       "      <td>0.060385</td>\n",
       "      <td>-0.015568</td>\n",
       "      <td>-0.214047</td>\n",
       "      <td>-0.157721</td>\n",
       "      <td>-0.301008</td>\n",
       "      <td>1.000000</td>\n",
       "      <td>-0.309217</td>\n",
       "      <td>-0.085575</td>\n",
       "      <td>0.004714</td>\n",
       "      <td>-0.132254</td>\n",
       "      <td>0.112910</td>\n",
       "      <td>-0.084335</td>\n",
       "    </tr>\n",
       "    <tr>\n",
       "      <th>LivingSqFt</th>\n",
       "      <td>-0.045015</td>\n",
       "      <td>0.640559</td>\n",
       "      <td>0.009063</td>\n",
       "      <td>0.773210</td>\n",
       "      <td>1.000000</td>\n",
       "      <td>0.033473</td>\n",
       "      <td>0.063043</td>\n",
       "      <td>0.268837</td>\n",
       "      <td>0.314672</td>\n",
       "      <td>0.060385</td>\n",
       "      <td>0.136709</td>\n",
       "      <td>-0.223614</td>\n",
       "      <td>0.586806</td>\n",
       "      <td>0.748974</td>\n",
       "      <td>0.977233</td>\n",
       "      <td>-0.001924</td>\n",
       "    </tr>\n",
       "    <tr>\n",
       "      <th>Log_LivingSqFt</th>\n",
       "      <td>-0.040790</td>\n",
       "      <td>0.618274</td>\n",
       "      <td>0.029309</td>\n",
       "      <td>0.737280</td>\n",
       "      <td>0.977233</td>\n",
       "      <td>0.036480</td>\n",
       "      <td>0.054946</td>\n",
       "      <td>0.276854</td>\n",
       "      <td>0.301384</td>\n",
       "      <td>0.112910</td>\n",
       "      <td>0.135821</td>\n",
       "      <td>-0.207039</td>\n",
       "      <td>0.588082</td>\n",
       "      <td>0.734685</td>\n",
       "      <td>1.000000</td>\n",
       "      <td>0.002972</td>\n",
       "    </tr>\n",
       "    <tr>\n",
       "      <th>HalfBath</th>\n",
       "      <td>-0.040120</td>\n",
       "      <td>0.258146</td>\n",
       "      <td>0.175852</td>\n",
       "      <td>0.296385</td>\n",
       "      <td>0.268837</td>\n",
       "      <td>0.022763</td>\n",
       "      <td>0.422643</td>\n",
       "      <td>1.000000</td>\n",
       "      <td>0.138804</td>\n",
       "      <td>-0.157721</td>\n",
       "      <td>0.291061</td>\n",
       "      <td>-0.025319</td>\n",
       "      <td>0.230793</td>\n",
       "      <td>0.270424</td>\n",
       "      <td>0.276854</td>\n",
       "      <td>-0.012412</td>\n",
       "    </tr>\n",
       "    <tr>\n",
       "      <th>TaxRate</th>\n",
       "      <td>-0.037848</td>\n",
       "      <td>-0.178728</td>\n",
       "      <td>1.000000</td>\n",
       "      <td>-0.308856</td>\n",
       "      <td>0.009063</td>\n",
       "      <td>-0.029393</td>\n",
       "      <td>0.261750</td>\n",
       "      <td>0.175852</td>\n",
       "      <td>-0.080985</td>\n",
       "      <td>0.167145</td>\n",
       "      <td>0.043957</td>\n",
       "      <td>0.089073</td>\n",
       "      <td>-0.202863</td>\n",
       "      <td>-0.358858</td>\n",
       "      <td>0.029309</td>\n",
       "      <td>-0.031492</td>\n",
       "    </tr>\n",
       "    <tr>\n",
       "      <th>Density</th>\n",
       "      <td>-0.003588</td>\n",
       "      <td>-0.173099</td>\n",
       "      <td>0.089073</td>\n",
       "      <td>-0.211503</td>\n",
       "      <td>-0.223614</td>\n",
       "      <td>0.033124</td>\n",
       "      <td>0.076763</td>\n",
       "      <td>-0.025319</td>\n",
       "      <td>-0.077688</td>\n",
       "      <td>-0.085575</td>\n",
       "      <td>0.037000</td>\n",
       "      <td>1.000000</td>\n",
       "      <td>-0.133594</td>\n",
       "      <td>-0.183686</td>\n",
       "      <td>-0.207039</td>\n",
       "      <td>0.010409</td>\n",
       "    </tr>\n",
       "    <tr>\n",
       "      <th>YearBuilt</th>\n",
       "      <td>-0.003125</td>\n",
       "      <td>0.042522</td>\n",
       "      <td>-0.029393</td>\n",
       "      <td>0.049635</td>\n",
       "      <td>0.033473</td>\n",
       "      <td>1.000000</td>\n",
       "      <td>0.017528</td>\n",
       "      <td>0.022763</td>\n",
       "      <td>0.079880</td>\n",
       "      <td>-0.015568</td>\n",
       "      <td>0.039966</td>\n",
       "      <td>0.033124</td>\n",
       "      <td>0.041859</td>\n",
       "      <td>0.053942</td>\n",
       "      <td>0.036480</td>\n",
       "      <td>0.000731</td>\n",
       "    </tr>\n",
       "    <tr>\n",
       "      <th>FullBath</th>\n",
       "      <td>0.007991</td>\n",
       "      <td>0.075237</td>\n",
       "      <td>0.261750</td>\n",
       "      <td>0.115947</td>\n",
       "      <td>0.063043</td>\n",
       "      <td>0.017528</td>\n",
       "      <td>1.000000</td>\n",
       "      <td>0.422643</td>\n",
       "      <td>0.104505</td>\n",
       "      <td>-0.214047</td>\n",
       "      <td>0.282449</td>\n",
       "      <td>0.076763</td>\n",
       "      <td>0.054750</td>\n",
       "      <td>0.093242</td>\n",
       "      <td>0.054946</td>\n",
       "      <td>0.014429</td>\n",
       "    </tr>\n",
       "    <tr>\n",
       "      <th>ASTotal</th>\n",
       "      <td>0.013636</td>\n",
       "      <td>0.745069</td>\n",
       "      <td>-0.308856</td>\n",
       "      <td>1.000000</td>\n",
       "      <td>0.773210</td>\n",
       "      <td>0.049635</td>\n",
       "      <td>0.115947</td>\n",
       "      <td>0.296385</td>\n",
       "      <td>0.438262</td>\n",
       "      <td>-0.161761</td>\n",
       "      <td>0.252863</td>\n",
       "      <td>-0.211503</td>\n",
       "      <td>0.680784</td>\n",
       "      <td>0.976450</td>\n",
       "      <td>0.737280</td>\n",
       "      <td>0.045667</td>\n",
       "    </tr>\n",
       "    <tr>\n",
       "      <th>Log_ASTotal</th>\n",
       "      <td>0.021035</td>\n",
       "      <td>0.731251</td>\n",
       "      <td>-0.358858</td>\n",
       "      <td>0.976450</td>\n",
       "      <td>0.748974</td>\n",
       "      <td>0.053942</td>\n",
       "      <td>0.093242</td>\n",
       "      <td>0.270424</td>\n",
       "      <td>0.440279</td>\n",
       "      <td>-0.132254</td>\n",
       "      <td>0.247498</td>\n",
       "      <td>-0.183686</td>\n",
       "      <td>0.701641</td>\n",
       "      <td>1.000000</td>\n",
       "      <td>0.734685</td>\n",
       "      <td>0.052105</td>\n",
       "    </tr>\n",
       "    <tr>\n",
       "      <th>Fireplace</th>\n",
       "      <td>0.072357</td>\n",
       "      <td>0.319281</td>\n",
       "      <td>-0.080985</td>\n",
       "      <td>0.438262</td>\n",
       "      <td>0.314672</td>\n",
       "      <td>0.079880</td>\n",
       "      <td>0.104505</td>\n",
       "      <td>0.138804</td>\n",
       "      <td>1.000000</td>\n",
       "      <td>-0.301008</td>\n",
       "      <td>0.300044</td>\n",
       "      <td>-0.077688</td>\n",
       "      <td>0.299794</td>\n",
       "      <td>0.440279</td>\n",
       "      <td>0.301384</td>\n",
       "      <td>0.058021</td>\n",
       "    </tr>\n",
       "    <tr>\n",
       "      <th>Porch</th>\n",
       "      <td>0.091556</td>\n",
       "      <td>0.148568</td>\n",
       "      <td>0.043957</td>\n",
       "      <td>0.252863</td>\n",
       "      <td>0.136709</td>\n",
       "      <td>0.039966</td>\n",
       "      <td>0.282449</td>\n",
       "      <td>0.291061</td>\n",
       "      <td>0.300044</td>\n",
       "      <td>-0.309217</td>\n",
       "      <td>1.000000</td>\n",
       "      <td>0.037000</td>\n",
       "      <td>0.139275</td>\n",
       "      <td>0.247498</td>\n",
       "      <td>0.135821</td>\n",
       "      <td>0.079053</td>\n",
       "    </tr>\n",
       "    <tr>\n",
       "      <th>Log_Longevity</th>\n",
       "      <td>0.927041</td>\n",
       "      <td>-0.155813</td>\n",
       "      <td>-0.031492</td>\n",
       "      <td>0.045667</td>\n",
       "      <td>-0.001924</td>\n",
       "      <td>0.000731</td>\n",
       "      <td>0.014429</td>\n",
       "      <td>-0.012412</td>\n",
       "      <td>0.058021</td>\n",
       "      <td>-0.084335</td>\n",
       "      <td>0.079053</td>\n",
       "      <td>0.010409</td>\n",
       "      <td>-0.181865</td>\n",
       "      <td>0.052105</td>\n",
       "      <td>0.002972</td>\n",
       "      <td>1.000000</td>\n",
       "    </tr>\n",
       "    <tr>\n",
       "      <th>Longevity</th>\n",
       "      <td>1.000000</td>\n",
       "      <td>-0.282381</td>\n",
       "      <td>-0.037848</td>\n",
       "      <td>0.013636</td>\n",
       "      <td>-0.045015</td>\n",
       "      <td>-0.003125</td>\n",
       "      <td>0.007991</td>\n",
       "      <td>-0.040120</td>\n",
       "      <td>0.072357</td>\n",
       "      <td>-0.121918</td>\n",
       "      <td>0.091556</td>\n",
       "      <td>-0.003588</td>\n",
       "      <td>-0.324790</td>\n",
       "      <td>0.021035</td>\n",
       "      <td>-0.040790</td>\n",
       "      <td>0.927041</td>\n",
       "    </tr>\n",
       "  </tbody>\n",
       "</table>\n",
       "</div>"
      ],
      "text/plain": [
       "                Longevity   SaleAmt   TaxRate   ASTotal  LivingSqFt  \\\n",
       "Log_SaleAmt     -0.324790  0.956075 -0.202863  0.680784    0.586806   \n",
       "SaleAmt         -0.282381  1.000000 -0.178728  0.745069    0.640559   \n",
       "CentralAir      -0.121918 -0.042849  0.167145 -0.161761    0.060385   \n",
       "LivingSqFt      -0.045015  0.640559  0.009063  0.773210    1.000000   \n",
       "Log_LivingSqFt  -0.040790  0.618274  0.029309  0.737280    0.977233   \n",
       "HalfBath        -0.040120  0.258146  0.175852  0.296385    0.268837   \n",
       "TaxRate         -0.037848 -0.178728  1.000000 -0.308856    0.009063   \n",
       "Density         -0.003588 -0.173099  0.089073 -0.211503   -0.223614   \n",
       "YearBuilt       -0.003125  0.042522 -0.029393  0.049635    0.033473   \n",
       "FullBath         0.007991  0.075237  0.261750  0.115947    0.063043   \n",
       "ASTotal          0.013636  0.745069 -0.308856  1.000000    0.773210   \n",
       "Log_ASTotal      0.021035  0.731251 -0.358858  0.976450    0.748974   \n",
       "Fireplace        0.072357  0.319281 -0.080985  0.438262    0.314672   \n",
       "Porch            0.091556  0.148568  0.043957  0.252863    0.136709   \n",
       "Log_Longevity    0.927041 -0.155813 -0.031492  0.045667   -0.001924   \n",
       "Longevity        1.000000 -0.282381 -0.037848  0.013636   -0.045015   \n",
       "\n",
       "                YearBuilt  FullBath  HalfBath  Fireplace  CentralAir  \\\n",
       "Log_SaleAmt      0.041859  0.054750  0.230793   0.299794    0.004714   \n",
       "SaleAmt          0.042522  0.075237  0.258146   0.319281   -0.042849   \n",
       "CentralAir      -0.015568 -0.214047 -0.157721  -0.301008    1.000000   \n",
       "LivingSqFt       0.033473  0.063043  0.268837   0.314672    0.060385   \n",
       "Log_LivingSqFt   0.036480  0.054946  0.276854   0.301384    0.112910   \n",
       "HalfBath         0.022763  0.422643  1.000000   0.138804   -0.157721   \n",
       "TaxRate         -0.029393  0.261750  0.175852  -0.080985    0.167145   \n",
       "Density          0.033124  0.076763 -0.025319  -0.077688   -0.085575   \n",
       "YearBuilt        1.000000  0.017528  0.022763   0.079880   -0.015568   \n",
       "FullBath         0.017528  1.000000  0.422643   0.104505   -0.214047   \n",
       "ASTotal          0.049635  0.115947  0.296385   0.438262   -0.161761   \n",
       "Log_ASTotal      0.053942  0.093242  0.270424   0.440279   -0.132254   \n",
       "Fireplace        0.079880  0.104505  0.138804   1.000000   -0.301008   \n",
       "Porch            0.039966  0.282449  0.291061   0.300044   -0.309217   \n",
       "Log_Longevity    0.000731  0.014429 -0.012412   0.058021   -0.084335   \n",
       "Longevity       -0.003125  0.007991 -0.040120   0.072357   -0.121918   \n",
       "\n",
       "                   Porch   Density  Log_SaleAmt  Log_ASTotal  Log_LivingSqFt  \\\n",
       "Log_SaleAmt     0.139275 -0.133594     1.000000     0.701641        0.588082   \n",
       "SaleAmt         0.148568 -0.173099     0.956075     0.731251        0.618274   \n",
       "CentralAir     -0.309217 -0.085575     0.004714    -0.132254        0.112910   \n",
       "LivingSqFt      0.136709 -0.223614     0.586806     0.748974        0.977233   \n",
       "Log_LivingSqFt  0.135821 -0.207039     0.588082     0.734685        1.000000   \n",
       "HalfBath        0.291061 -0.025319     0.230793     0.270424        0.276854   \n",
       "TaxRate         0.043957  0.089073    -0.202863    -0.358858        0.029309   \n",
       "Density         0.037000  1.000000    -0.133594    -0.183686       -0.207039   \n",
       "YearBuilt       0.039966  0.033124     0.041859     0.053942        0.036480   \n",
       "FullBath        0.282449  0.076763     0.054750     0.093242        0.054946   \n",
       "ASTotal         0.252863 -0.211503     0.680784     0.976450        0.737280   \n",
       "Log_ASTotal     0.247498 -0.183686     0.701641     1.000000        0.734685   \n",
       "Fireplace       0.300044 -0.077688     0.299794     0.440279        0.301384   \n",
       "Porch           1.000000  0.037000     0.139275     0.247498        0.135821   \n",
       "Log_Longevity   0.079053  0.010409    -0.181865     0.052105        0.002972   \n",
       "Longevity       0.091556 -0.003588    -0.324790     0.021035       -0.040790   \n",
       "\n",
       "                Log_Longevity  \n",
       "Log_SaleAmt         -0.181865  \n",
       "SaleAmt             -0.155813  \n",
       "CentralAir          -0.084335  \n",
       "LivingSqFt          -0.001924  \n",
       "Log_LivingSqFt       0.002972  \n",
       "HalfBath            -0.012412  \n",
       "TaxRate             -0.031492  \n",
       "Density              0.010409  \n",
       "YearBuilt            0.000731  \n",
       "FullBath             0.014429  \n",
       "ASTotal              0.045667  \n",
       "Log_ASTotal          0.052105  \n",
       "Fireplace            0.058021  \n",
       "Porch                0.079053  \n",
       "Log_Longevity        1.000000  \n",
       "Longevity            0.927041  "
      ]
     },
     "execution_count": 365,
     "metadata": {},
     "output_type": "execute_result"
    }
   ],
   "source": [
    "df2.corr().sort_values('Longevity')"
   ]
  },
  {
   "cell_type": "markdown",
   "metadata": {},
   "source": [
    "#### Define the model"
   ]
  },
  {
   "cell_type": "code",
   "execution_count": 379,
   "metadata": {
    "ExecuteTime": {
     "end_time": "2018-02-02T08:02:17.839347Z",
     "start_time": "2018-02-02T08:02:17.806541Z"
    },
    "collapsed": true
   },
   "outputs": [],
   "source": [
    "y, X = patsy.dmatrices('Log_Longevity ~ Log_SaleAmt + TaxRate + Log_ASTotal + Log_LivingSqFt + YearBuilt + Fireplace + CentralAir + Porch', data=df2, return_type=\"dataframe\")\n"
   ]
  },
  {
   "cell_type": "code",
   "execution_count": 380,
   "metadata": {
    "ExecuteTime": {
     "end_time": "2018-02-02T08:02:18.647698Z",
     "start_time": "2018-02-02T08:02:18.633482Z"
    }
   },
   "outputs": [
    {
     "data": {
      "text/html": [
       "<div>\n",
       "<style>\n",
       "    .dataframe thead tr:only-child th {\n",
       "        text-align: right;\n",
       "    }\n",
       "\n",
       "    .dataframe thead th {\n",
       "        text-align: left;\n",
       "    }\n",
       "\n",
       "    .dataframe tbody tr th {\n",
       "        vertical-align: top;\n",
       "    }\n",
       "</style>\n",
       "<table border=\"1\" class=\"dataframe\">\n",
       "  <thead>\n",
       "    <tr style=\"text-align: right;\">\n",
       "      <th></th>\n",
       "      <th>Intercept</th>\n",
       "      <th>Log_SaleAmt</th>\n",
       "      <th>TaxRate</th>\n",
       "      <th>Log_ASTotal</th>\n",
       "      <th>Log_LivingSqFt</th>\n",
       "      <th>YearBuilt</th>\n",
       "      <th>Fireplace</th>\n",
       "      <th>CentralAir</th>\n",
       "      <th>Porch</th>\n",
       "    </tr>\n",
       "  </thead>\n",
       "  <tbody>\n",
       "    <tr>\n",
       "      <th>558</th>\n",
       "      <td>1.0</td>\n",
       "      <td>11.198215</td>\n",
       "      <td>7.8868</td>\n",
       "      <td>11.336510</td>\n",
       "      <td>7.271704</td>\n",
       "      <td>1949.0</td>\n",
       "      <td>1.0</td>\n",
       "      <td>1.0</td>\n",
       "      <td>0.0</td>\n",
       "    </tr>\n",
       "    <tr>\n",
       "      <th>589</th>\n",
       "      <td>1.0</td>\n",
       "      <td>12.691580</td>\n",
       "      <td>8.0742</td>\n",
       "      <td>11.577111</td>\n",
       "      <td>7.477604</td>\n",
       "      <td>1995.0</td>\n",
       "      <td>1.0</td>\n",
       "      <td>1.0</td>\n",
       "      <td>1.0</td>\n",
       "    </tr>\n",
       "    <tr>\n",
       "      <th>606</th>\n",
       "      <td>1.0</td>\n",
       "      <td>12.283034</td>\n",
       "      <td>8.9128</td>\n",
       "      <td>11.320869</td>\n",
       "      <td>7.451242</td>\n",
       "      <td>1979.0</td>\n",
       "      <td>1.0</td>\n",
       "      <td>1.0</td>\n",
       "      <td>0.0</td>\n",
       "    </tr>\n",
       "    <tr>\n",
       "      <th>607</th>\n",
       "      <td>1.0</td>\n",
       "      <td>11.492723</td>\n",
       "      <td>8.9128</td>\n",
       "      <td>11.343252</td>\n",
       "      <td>7.971776</td>\n",
       "      <td>1979.0</td>\n",
       "      <td>1.0</td>\n",
       "      <td>1.0</td>\n",
       "      <td>1.0</td>\n",
       "    </tr>\n",
       "    <tr>\n",
       "      <th>608</th>\n",
       "      <td>1.0</td>\n",
       "      <td>12.301383</td>\n",
       "      <td>8.9128</td>\n",
       "      <td>11.264977</td>\n",
       "      <td>7.614805</td>\n",
       "      <td>1978.0</td>\n",
       "      <td>1.0</td>\n",
       "      <td>1.0</td>\n",
       "      <td>1.0</td>\n",
       "    </tr>\n",
       "  </tbody>\n",
       "</table>\n",
       "</div>"
      ],
      "text/plain": [
       "     Intercept  Log_SaleAmt  TaxRate  Log_ASTotal  Log_LivingSqFt  YearBuilt  \\\n",
       "558        1.0    11.198215   7.8868    11.336510        7.271704     1949.0   \n",
       "589        1.0    12.691580   8.0742    11.577111        7.477604     1995.0   \n",
       "606        1.0    12.283034   8.9128    11.320869        7.451242     1979.0   \n",
       "607        1.0    11.492723   8.9128    11.343252        7.971776     1979.0   \n",
       "608        1.0    12.301383   8.9128    11.264977        7.614805     1978.0   \n",
       "\n",
       "     Fireplace  CentralAir  Porch  \n",
       "558        1.0         1.0    0.0  \n",
       "589        1.0         1.0    1.0  \n",
       "606        1.0         1.0    0.0  \n",
       "607        1.0         1.0    1.0  \n",
       "608        1.0         1.0    1.0  "
      ]
     },
     "execution_count": 380,
     "metadata": {},
     "output_type": "execute_result"
    }
   ],
   "source": [
    "X.head()"
   ]
  },
  {
   "cell_type": "markdown",
   "metadata": {},
   "source": [
    "#### Standardize"
   ]
  },
  {
   "cell_type": "code",
   "execution_count": 381,
   "metadata": {
    "ExecuteTime": {
     "end_time": "2018-02-02T08:02:24.026535Z",
     "start_time": "2018-02-02T08:02:24.019700Z"
    },
    "collapsed": true
   },
   "outputs": [],
   "source": [
    "X = StandardScaler().fit_transform(X)"
   ]
  },
  {
   "cell_type": "markdown",
   "metadata": {},
   "source": [
    "## Model Experimentation and Evaluation"
   ]
  },
  {
   "cell_type": "markdown",
   "metadata": {},
   "source": [
    "Text"
   ]
  },
  {
   "cell_type": "code",
   "execution_count": 370,
   "metadata": {
    "ExecuteTime": {
     "end_time": "2018-02-02T07:35:13.275822Z",
     "start_time": "2018-02-02T07:35:13.268407Z"
    }
   },
   "outputs": [
    {
     "data": {
      "text/plain": [
       "Log_Longevity    8.246999\n",
       "dtype: float64"
      ]
     },
     "execution_count": 370,
     "metadata": {},
     "output_type": "execute_result"
    }
   ],
   "source": [
    "y.mean()"
   ]
  },
  {
   "cell_type": "markdown",
   "metadata": {},
   "source": [
    "### Basic Linear Regression"
   ]
  },
  {
   "cell_type": "code",
   "execution_count": 371,
   "metadata": {
    "ExecuteTime": {
     "end_time": "2018-02-02T07:36:52.006733Z",
     "start_time": "2018-02-02T07:36:51.933351Z"
    },
    "run_control": {
     "marked": false
    }
   },
   "outputs": [
    {
     "name": "stdout",
     "output_type": "stream",
     "text": [
      "[ 0.77782411  0.75733912  0.75356208  0.76513682  0.71110719  0.71484247\n",
      "  0.71611499  0.73752505  0.76529421  0.76893407]\n"
     ]
    }
   ],
   "source": [
    "reg = LinearRegression()\n",
    "scores = cross_val_score(reg, X, y, cv=10, scoring='neg_mean_squared_error')\n",
    "\n",
    "# scores output is negative, a sklearn quirk bc mse is used to min. optimization func.\n",
    "print(np.array([math.sqrt(x) for x in -scores]))"
   ]
  },
  {
   "cell_type": "markdown",
   "metadata": {},
   "source": [
    "### Basic Polynomial Regression"
   ]
  },
  {
   "cell_type": "code",
   "execution_count": 204,
   "metadata": {
    "ExecuteTime": {
     "end_time": "2018-01-31T22:44:15.180243Z",
     "start_time": "2018-01-31T22:44:15.108838Z"
    }
   },
   "outputs": [
    {
     "name": "stdout",
     "output_type": "stream",
     "text": [
      "[  2684.53466593   3598.71157638   2656.24439764   4226.07078147\n",
      "   8371.45311281   2711.73830043   9575.95944592   4784.46036978\n",
      "  14569.72086452   3821.61555235]\n"
     ]
    }
   ],
   "source": [
    "reg = LinearRegression()\n",
    "degree=2\n",
    "est = make_pipeline(PolynomialFeatures(degree), LinearRegression())\n",
    "scores = cross_val_score(est, X, y, cv=10, scoring='neg_mean_squared_error')\n",
    "\n",
    "# scores output is negative, a sklearn quirk bc mse is used to min. optimization func.\n",
    "print(np.array([math.sqrt(x) for x in -scores]))"
   ]
  },
  {
   "cell_type": "code",
   "execution_count": 372,
   "metadata": {
    "ExecuteTime": {
     "end_time": "2018-02-02T07:37:01.575784Z",
     "start_time": "2018-02-02T07:37:01.341488Z"
    }
   },
   "outputs": [
    {
     "data": {
      "text/plain": [
       "{'fit_time': array([ 0.02397871,  0.00995731,  0.01100755,  0.01839995,  0.01383066,\n",
       "         0.0111587 ,  0.00897789,  0.0065949 ,  0.0133121 ,  0.00609326]),\n",
       " 'score_time': array([ 0.00095797,  0.0007441 ,  0.00128365,  0.00065398,  0.00082874,\n",
       "         0.00080156,  0.00058365,  0.00255775,  0.0021584 ,  0.02351403]),\n",
       " 'test_neg_mean_squared_error': array([-0.60501035, -0.57356254, -0.5678558 , -0.58543436, -0.50567344,\n",
       "        -0.51099975, -0.51282068, -0.5439432 , -0.58567523, -0.5912596 ]),\n",
       " 'test_r2': array([ 0.05880326,  0.03201669,  0.06040886,  0.04724393,  0.19900863,\n",
       "         0.10479881,  0.10876697,  0.18902857,  0.04195548,  0.07636793]),\n",
       " 'train_neg_mean_squared_error': array([-0.55017119, -0.55376059, -0.554242  , -0.55231256, -0.56147301,\n",
       "        -0.56051199, -0.56033911, -0.55708868, -0.55240355, -0.55160644]),\n",
       " 'train_r2': array([ 0.10442918,  0.10717405,  0.10447899,  0.10593538,  0.08691485,\n",
       "         0.09981387,  0.09931987,  0.08834454,  0.10603413,  0.10297949])}"
      ]
     },
     "execution_count": 372,
     "metadata": {},
     "output_type": "execute_result"
    }
   ],
   "source": [
    "reg = LinearRegression()\n",
    "scoring = ['neg_mean_squared_error', 'r2']\n",
    "scores = cross_validate(reg, X, y, scoring=scoring,cv=10, return_train_score=True)\n",
    "scores"
   ]
  },
  {
   "cell_type": "markdown",
   "metadata": {},
   "source": [
    "### Feature evaluation"
   ]
  },
  {
   "cell_type": "code",
   "execution_count": 224,
   "metadata": {
    "ExecuteTime": {
     "end_time": "2018-01-31T23:16:11.900018Z",
     "start_time": "2018-01-31T23:16:11.483278Z"
    },
    "scrolled": true
   },
   "outputs": [
    {
     "name": "stderr",
     "output_type": "stream",
     "text": [
      "/home/joseph/anaconda3/lib/python3.6/site-packages/sklearn/utils/validation.py:578: DataConversionWarning: A column-vector y was passed when a 1d array was expected. Please change the shape of y to (n_samples, ), for example using ravel().\n",
      "  y = column_or_1d(y, warn=True)\n",
      "/home/joseph/anaconda3/lib/python3.6/site-packages/sklearn/feature_selection/univariate_selection.py:298: RuntimeWarning: divide by zero encountered in true_divide\n",
      "  corr /= X_norms\n",
      "/home/joseph/anaconda3/lib/python3.6/site-packages/sklearn/feature_selection/univariate_selection.py:303: RuntimeWarning: invalid value encountered in true_divide\n",
      "  F = corr ** 2 / (1 - corr ** 2) * degrees_of_freedom\n"
     ]
    },
    {
     "name": "stdout",
     "output_type": "stream",
     "text": [
      "['Log_SaleAmt']\n",
      "['Log_SaleAmt']\n",
      "['Log_SaleAmt']\n",
      "['Log_SaleAmt']\n",
      "['Log_SaleAmt']\n"
     ]
    },
    {
     "data": {
      "text/plain": [
       "0.06713711141161946"
      ]
     },
     "execution_count": 224,
     "metadata": {},
     "output_type": "execute_result"
    }
   ],
   "source": [
    "kf = KFold(n_splits=5, shuffle=True)\n",
    "\n",
    "\n",
    "# create a linear regression model\n",
    "lm = LinearRegression()\n",
    "all_scores=[]\n",
    "\n",
    "# get indices of corresponding train & test\n",
    "for train,test in kf.split(X):\n",
    "    x_train=X.iloc[train]\n",
    "    y_train=y.iloc[train]\n",
    "    x_test=X.iloc[test]\n",
    "    y_test=y.iloc[test]\n",
    "\n",
    "    pvals=[]\n",
    "    sig_cols=[]\n",
    "\n",
    "    # within each training set, find the significant variables\n",
    "    for feature in x_train.columns:\n",
    "        pval=f_select.f_regression(x_train[[feature]], y_train)\n",
    "        \n",
    "        if pval[1][0]<.01: \n",
    "            sig_cols.append(feature)\n",
    "            pvals.append(pval[1][0])\n",
    "            \n",
    "    lm.fit(x_train[sig_cols],y_train)\n",
    "    print(sig_cols)\n",
    "    \n",
    "    r_2=lm.score(x_test[sig_cols],y_test)\n",
    "    all_scores.append(r_2)\n",
    "    \n",
    "np.mean(all_scores)\n",
    "\n"
   ]
  },
  {
   "cell_type": "markdown",
   "metadata": {},
   "source": [
    "### Ridge Regression"
   ]
  },
  {
   "cell_type": "code",
   "execution_count": 346,
   "metadata": {
    "ExecuteTime": {
     "end_time": "2018-02-02T06:08:52.570400Z",
     "start_time": "2018-02-02T06:08:51.583418Z"
    }
   },
   "outputs": [
    {
     "data": {
      "text/plain": [
       "{'fit_time': array([ 0.0383575 ,  0.03902268,  0.06465101,  0.02653861,  0.05691075,\n",
       "         0.02652287,  0.02911663,  0.0263288 ,  0.02759314,  0.02797771]),\n",
       " 'score_time': array([ 0.01015306,  0.00774145,  0.006042  ,  0.00612688,  0.00551128,\n",
       "         0.00550604,  0.00663495,  0.00530505,  0.0055716 ,  0.00543451]),\n",
       " 'test_neg_mean_squared_error': array([-6552866.39607118, -6424976.71627184, -5578946.2813937 ,\n",
       "        -6474580.13980465, -5497705.1562018 , -5266566.4793487 ,\n",
       "        -5428840.11774937, -5844798.216485  , -6065522.7262222 ,\n",
       "        -6085610.5529773 ]),\n",
       " 'test_neg_median_absolute_error': array([-1884.79022689, -1877.82010082, -1819.83720786, -1951.76222224,\n",
       "        -1843.86381026, -1403.31834983, -1615.9963883 , -1712.86381034,\n",
       "        -1894.10590129, -2130.38745273]),\n",
       " 'test_r2': array([ 0.20104611,  0.13625071,  0.21961964,  0.17697301,  0.44371575,\n",
       "         0.25684521,  0.26887013,  0.41368829,  0.19955077,  0.19557962]),\n",
       " 'train_neg_mean_squared_error': array([-5740008.14170122, -5753990.07167607, -5845120.07213862,\n",
       "        -5747445.12399782, -5864026.58673497, -5882167.10136222,\n",
       "        -5863522.26334443, -5819996.0980089 , -5791260.61064104,\n",
       "        -5788396.36766685]),\n",
       " 'train_neg_median_absolute_error': array([-1762.18769362, -1754.6132306 , -1794.2406224 , -1756.61421128,\n",
       "        -1805.40114898, -1814.82995354, -1790.4398609 , -1803.53573895,\n",
       "        -1769.90678763, -1753.67852041]),\n",
       " 'train_r2': array([ 0.28719153,  0.29311568,  0.28475377,  0.28980854,  0.25216487,\n",
       "         0.28102361,  0.27999124,  0.25765095,  0.28689218,  0.28775973])}"
      ]
     },
     "execution_count": 346,
     "metadata": {},
     "output_type": "execute_result"
    }
   ],
   "source": [
    "alpha = 0.01\n",
    "degree=2\n",
    "est = make_pipeline(PolynomialFeatures(degree), Ridge(alpha=alpha))\n",
    "scoring = ['neg_mean_squared_error', 'r2','neg_median_absolute_error']\n",
    "scores = cross_validate(est, X, y, scoring=scoring,cv=10, return_train_score=True)\n",
    "scores"
   ]
  },
  {
   "cell_type": "code",
   "execution_count": 349,
   "metadata": {
    "ExecuteTime": {
     "end_time": "2018-02-02T06:12:37.845545Z",
     "start_time": "2018-02-02T06:12:37.841795Z"
    }
   },
   "outputs": [
    {
     "data": {
      "text/plain": [
       "-4.9684234165931986"
      ]
     },
     "execution_count": 349,
     "metadata": {},
     "output_type": "execute_result"
    }
   ],
   "source": [
    "scores['test_neg_median_absolute_error'].mean()/365"
   ]
  },
  {
   "cell_type": "markdown",
   "metadata": {},
   "source": [
    "### Lasso Regression"
   ]
  },
  {
   "cell_type": "code",
   "execution_count": 307,
   "metadata": {
    "ExecuteTime": {
     "end_time": "2018-02-01T20:46:45.815330Z",
     "start_time": "2018-02-01T20:46:45.448870Z"
    },
    "scrolled": true
   },
   "outputs": [
    {
     "name": "stderr",
     "output_type": "stream",
     "text": [
      "/home/joseph/anaconda3/lib/python3.6/site-packages/sklearn/linear_model/coordinate_descent.py:491: ConvergenceWarning: Objective did not converge. You might want to increase the number of iterations. Fitting data with very small alpha may cause precision problems.\n",
      "  ConvergenceWarning)\n",
      "/home/joseph/anaconda3/lib/python3.6/site-packages/sklearn/linear_model/coordinate_descent.py:491: ConvergenceWarning: Objective did not converge. You might want to increase the number of iterations. Fitting data with very small alpha may cause precision problems.\n",
      "  ConvergenceWarning)\n",
      "/home/joseph/anaconda3/lib/python3.6/site-packages/sklearn/linear_model/coordinate_descent.py:491: ConvergenceWarning: Objective did not converge. You might want to increase the number of iterations. Fitting data with very small alpha may cause precision problems.\n",
      "  ConvergenceWarning)\n",
      "/home/joseph/anaconda3/lib/python3.6/site-packages/sklearn/linear_model/coordinate_descent.py:491: ConvergenceWarning: Objective did not converge. You might want to increase the number of iterations. Fitting data with very small alpha may cause precision problems.\n",
      "  ConvergenceWarning)\n",
      "/home/joseph/anaconda3/lib/python3.6/site-packages/sklearn/linear_model/coordinate_descent.py:491: ConvergenceWarning: Objective did not converge. You might want to increase the number of iterations. Fitting data with very small alpha may cause precision problems.\n",
      "  ConvergenceWarning)\n",
      "/home/joseph/anaconda3/lib/python3.6/site-packages/sklearn/linear_model/coordinate_descent.py:491: ConvergenceWarning: Objective did not converge. You might want to increase the number of iterations. Fitting data with very small alpha may cause precision problems.\n",
      "  ConvergenceWarning)\n",
      "/home/joseph/anaconda3/lib/python3.6/site-packages/sklearn/linear_model/coordinate_descent.py:491: ConvergenceWarning: Objective did not converge. You might want to increase the number of iterations. Fitting data with very small alpha may cause precision problems.\n",
      "  ConvergenceWarning)\n",
      "/home/joseph/anaconda3/lib/python3.6/site-packages/sklearn/linear_model/coordinate_descent.py:491: ConvergenceWarning: Objective did not converge. You might want to increase the number of iterations. Fitting data with very small alpha may cause precision problems.\n",
      "  ConvergenceWarning)\n",
      "/home/joseph/anaconda3/lib/python3.6/site-packages/sklearn/linear_model/coordinate_descent.py:491: ConvergenceWarning: Objective did not converge. You might want to increase the number of iterations. Fitting data with very small alpha may cause precision problems.\n",
      "  ConvergenceWarning)\n",
      "/home/joseph/anaconda3/lib/python3.6/site-packages/sklearn/linear_model/coordinate_descent.py:491: ConvergenceWarning: Objective did not converge. You might want to increase the number of iterations. Fitting data with very small alpha may cause precision problems.\n",
      "  ConvergenceWarning)\n"
     ]
    },
    {
     "data": {
      "text/plain": [
       "{'fit_time': array([ 0.02560949,  0.02187872,  0.02094412,  0.02065277,  0.0207479 ,\n",
       "         0.03086805,  0.02326274,  0.04340053,  0.02811837,  0.02141428]),\n",
       " 'score_time': array([ 0.00620604,  0.00142932,  0.00143504,  0.00993085,  0.00158286,\n",
       "         0.00256944,  0.00166798,  0.0014298 ,  0.00157762,  0.00170541]),\n",
       " 'test_neg_mean_squared_error': array([-7151748.83656557, -5568487.2555249 , -3964787.90494425,\n",
       "        -5447854.63451336, -6599747.10516303, -5521967.04732249,\n",
       "        -9062455.18253427, -6480922.76869424, -6265248.45679911,\n",
       "        -6606277.41861003]),\n",
       " 'test_r2': array([ 0.26184413,  0.25941534, -0.25999288, -0.52640713,  0.13502402,\n",
       "        -0.30981554,  0.22594138, -0.01427154,  0.13464504,  0.19432266]),\n",
       " 'train_neg_mean_squared_error': array([-5906716.34895177, -6063374.22698716, -6249906.41256639,\n",
       "        -6112959.25344711, -5953526.16339988, -6073457.17191973,\n",
       "        -5684282.27855621, -5969932.78812524, -6008794.39396149,\n",
       "        -5960969.4204715 ]),\n",
       " 'train_r2': array([ 0.1531144 ,  0.16343346,  0.18533985,  0.19092769,  0.17629505,\n",
       "         0.19639109,  0.15743029,  0.18504407,  0.17472741,  0.16960665])}"
      ]
     },
     "execution_count": 307,
     "metadata": {},
     "output_type": "execute_result"
    }
   ],
   "source": [
    "alpha = 100\n",
    "degree=2\n",
    "est = make_pipeline(PolynomialFeatures(degree), Lasso(alpha=alpha))\n",
    "scoring = ['neg_mean_squared_error', 'r2']\n",
    "scores = cross_validate(est, X, y, scoring=scoring,cv=10, return_train_score=True)\n",
    "scores"
   ]
  },
  {
   "cell_type": "markdown",
   "metadata": {},
   "source": [
    "### Bias and Variance Evaluation"
   ]
  },
  {
   "cell_type": "markdown",
   "metadata": {},
   "source": [
    "#### Homespun"
   ]
  },
  {
   "cell_type": "markdown",
   "metadata": {},
   "source": [
    "First, my own attempt at developing this plot..."
   ]
  },
  {
   "cell_type": "code",
   "execution_count": 250,
   "metadata": {
    "ExecuteTime": {
     "end_time": "2018-02-01T00:28:38.813498Z",
     "start_time": "2018-02-01T00:28:38.805818Z"
    },
    "collapsed": true,
    "run_control": {
     "marked": false
    }
   },
   "outputs": [],
   "source": [
    "def sample_test_train(N,k,size,seed=False):\n",
    "    ''' Create a set of train/test samples.\n",
    "        The goal here is random sets of a certain size.\n",
    "        There is no intention of these sets being non-overlapping.\n",
    "        Size is same for both test and train unless the requested\n",
    "        size is more than half of the N provided.\n",
    "        Input:\n",
    "            N    the size of the data\n",
    "            k    the number or samples desired\n",
    "            size the size of the samples desired\n",
    "        Output:\n",
    "            List of pairs of list of indices\n",
    "    '''\n",
    "    if seed:\n",
    "        np.seed(seed)\n",
    "    output = []\n",
    "    for i in range(k):\n",
    "        indices = np.random.permutation(N)\n",
    "        output.append([indices[:size],indices[size:min(size*2,N)]])\n",
    "    return output"
   ]
  },
  {
   "cell_type": "code",
   "execution_count": 266,
   "metadata": {
    "ExecuteTime": {
     "end_time": "2018-02-01T19:24:07.221516Z",
     "start_time": "2018-02-01T19:24:07.184967Z"
    },
    "collapsed": true,
    "run_control": {
     "marked": false
    }
   },
   "outputs": [],
   "source": [
    "def learning_plot(est,X,y,points=10,rep=10):\n",
    "    \"\"\" Create a plot to visualize the learning of the model.\n",
    "    Inputs:\n",
    "        est    the estimator\n",
    "        X      the features\n",
    "        y      the target\n",
    "        points the number of tests\n",
    "        rep    the number of repetitions at each test size\n",
    "    \"\"\"\n",
    "    x = np.arange(points)\n",
    "    train_err = np.array([])\n",
    "    test_err = np.array([])\n",
    "    N = len(X)\n",
    "    sizes = [math.ceil(0.9 * N * (1 + i)/points) for i in x]\n",
    "    for size in sizes:\n",
    "        train = np.array([])\n",
    "        test = np.array([])\n",
    "        for train_ind,test_ind in sample_test_train(len(X),rep,size):\n",
    "            X_train = X.iloc[train_ind]\n",
    "            X_test  = X.iloc[test_ind]\n",
    "            y_train = y.iloc[train_ind]\n",
    "            y_test  = y.iloc[test_ind]\n",
    "            est.fit(X.iloc[train_ind],y.iloc[train_ind])\n",
    "            train = np.append(train,\n",
    "                metrics.mean_squared_error(\n",
    "                    est.predict(X.iloc[train_ind]),\n",
    "                    y.iloc[train_ind]\n",
    "            ))\n",
    "            test = np.append(test,\n",
    "                metrics.mean_squared_error(\n",
    "                    est.predict(X.iloc[test_ind]),\n",
    "                    y.iloc[test_ind]\n",
    "            ))\n",
    "        train_err = np.append(train_err,train.mean())\n",
    "        test_err = np.append(test_err,test.mean())\n",
    "    plt.figure(figsize=(8,6))\n",
    "    plt.scatter(sizes, train_err,c='b')\n",
    "    plt.scatter(sizes, test_err,c='r')\n",
    "    "
   ]
  },
  {
   "cell_type": "code",
   "execution_count": 276,
   "metadata": {
    "ExecuteTime": {
     "end_time": "2018-02-01T19:32:28.167233Z",
     "start_time": "2018-02-01T19:32:22.463762Z"
    }
   },
   "outputs": [
    {
     "data": {
      "image/png": "[encoded data removed]",
      "text/plain": [
       "<matplotlib.figure.Figure at 0x7f7b43eb8438>"
      ]
     },
     "metadata": {},
     "output_type": "display_data"
    }
   ],
   "source": [
    "est = make_pipeline(LinearRegression())\n",
    "learning_plot(est,X,y,20,100)"
   ]
  },
  {
   "cell_type": "markdown",
   "metadata": {
    "ExecuteTime": {
     "end_time": "2018-02-01T19:49:48.393713Z",
     "start_time": "2018-02-01T19:49:48.379596Z"
    }
   },
   "source": [
    "#### Using sklearn"
   ]
  },
  {
   "cell_type": "code",
   "execution_count": 291,
   "metadata": {
    "ExecuteTime": {
     "end_time": "2018-02-01T20:37:24.432680Z",
     "start_time": "2018-02-01T20:37:24.394523Z"
    },
    "collapsed": true,
    "run_control": {
     "marked": true
    }
   },
   "outputs": [],
   "source": [
    "def plot_learning_curve(estimator, title, X, y, ylim=None, cv=None,\n",
    "                        n_jobs=1, train_sizes=np.linspace(.1, 1.0, 5)):\n",
    "    \"\"\"\n",
    "    Generate a simple plot of the test and training learning curve.\n",
    "\n",
    "    Parameters\n",
    "    ----------\n",
    "    estimator : object type that implements the \"fit\" and \"predict\" methods\n",
    "        An object of that type which is cloned for each validation.\n",
    "\n",
    "    title : string\n",
    "        Title for the chart.\n",
    "\n",
    "    X : array-like, shape (n_samples, n_features)\n",
    "        Training vector, where n_samples is the number of samples and\n",
    "        n_features is the number of features.\n",
    "\n",
    "    y : array-like, shape (n_samples) or (n_samples, n_features), optional\n",
    "        Target relative to X for classification or regression;\n",
    "        None for unsupervised learning.\n",
    "\n",
    "    ylim : tuple, shape (ymin, ymax), optional\n",
    "        Defines minimum and maximum yvalues plotted.\n",
    "\n",
    "    cv : int, cross-validation generator or an iterable, optional\n",
    "        Determines the cross-validation splitting strategy.\n",
    "        Possible inputs for cv are:\n",
    "          - None, to use the default 3-fold cross-validation,\n",
    "          - integer, to specify the number of folds.\n",
    "          - An object to be used as a cross-validation generator.\n",
    "          - An iterable yielding train/test splits.\n",
    "\n",
    "        For integer/None inputs, if ``y`` is binary or multiclass,\n",
    "        :class:`StratifiedKFold` used. If the estimator is not a classifier\n",
    "        or if ``y`` is neither binary nor multiclass, :class:`KFold` is used.\n",
    "\n",
    "        Refer :ref:`User Guide <cross_validation>` for the various\n",
    "        cross-validators that can be used here.\n",
    "\n",
    "    n_jobs : integer, optional\n",
    "        Number of jobs to run in parallel (default 1).\n",
    "    \"\"\"\n",
    "    plt.figure()\n",
    "    plt.title(title)\n",
    "    if ylim is not None:\n",
    "        plt.ylim(*ylim)\n",
    "    plt.xlabel(\"Training examples\")\n",
    "    plt.ylabel(\"Score\")\n",
    "    train_sizes, train_scores, test_scores = learning_curve(\n",
    "        estimator, X, y, cv=cv, n_jobs=n_jobs, train_sizes=train_sizes)\n",
    "    train_scores_mean = np.mean(train_scores, axis=1)\n",
    "    train_scores_std = np.std(train_scores, axis=1)\n",
    "    test_scores_mean = np.mean(test_scores, axis=1)\n",
    "    test_scores_std = np.std(test_scores, axis=1)\n",
    "    plt.grid()\n",
    "\n",
    "    plt.fill_between(train_sizes, train_scores_mean - train_scores_std,\n",
    "                     train_scores_mean + train_scores_std, alpha=0.4,\n",
    "                     color=\"r\")\n",
    "    plt.fill_between(train_sizes, test_scores_mean - test_scores_std,\n",
    "                     test_scores_mean + test_scores_std, alpha=0.4, color=\"g\")\n",
    "    plt.plot(train_sizes, train_scores_mean, 'o-', color=\"r\",\n",
    "             label=\"Training score\")\n",
    "    plt.plot(train_sizes, test_scores_mean, 'o-', color=\"g\",\n",
    "             label=\"Cross-validation score\")\n",
    "\n",
    "    plt.legend(loc=\"best\")\n",
    "    return plt\n"
   ]
  },
  {
   "cell_type": "code",
   "execution_count": 338,
   "metadata": {
    "ExecuteTime": {
     "end_time": "2018-02-02T06:00:20.286163Z",
     "start_time": "2018-02-02T06:00:15.452924Z"
    }
   },
   "outputs": [
    {
     "data": {
      "text/plain": [
       "<module 'matplotlib.pyplot' from '/home/joseph/anaconda3/lib/python3.6/site-packages/matplotlib/pyplot.py'>"
      ]
     },
     "execution_count": 338,
     "metadata": {},
     "output_type": "execute_result"
    },
    {
     "data": {
      "image/png": "[encoded data removed]",
      "text/plain": [
       "<matplotlib.figure.Figure at 0x7f7b43b484a8>"
      ]
     },
     "metadata": {},
     "output_type": "display_data"
    }
   ],
   "source": [
    "est = make_pipeline(LinearRegression())\n",
    "\n",
    "plot_learning_curve(\n",
    "    est,\n",
    "    \"Learning Curves (Linear Regression)\",\n",
    "    X[:1000], y[:1000],\n",
    "    cv = ShuffleSplit(n_splits=100, test_size=0.2),\n",
    "    n_jobs=4,\n",
    "    #ylim=(0.7, 1.01)\n",
    ")"
   ]
  },
  {
   "cell_type": "code",
   "execution_count": 337,
   "metadata": {
    "ExecuteTime": {
     "end_time": "2018-02-02T05:55:00.415728Z",
     "start_time": "2018-02-02T05:54:51.715547Z"
    },
    "run_control": {
     "marked": false
    }
   },
   "outputs": [
    {
     "data": {
      "text/plain": [
       "<module 'matplotlib.pyplot' from '/home/joseph/anaconda3/lib/python3.6/site-packages/matplotlib/pyplot.py'>"
      ]
     },
     "execution_count": 337,
     "metadata": {},
     "output_type": "execute_result"
    },
    {
     "data": {
      "image/png": "[encoded data removed]",
      "text/plain": [
       "<matplotlib.figure.Figure at 0x7f7b43e0b1d0>"
      ]
     },
     "metadata": {},
     "output_type": "display_data"
    }
   ],
   "source": [
    "est = make_pipeline(LinearRegression())\n",
    "\n",
    "plot_learning_curve(\n",
    "    est,\n",
    "    \"Learning Curves (Linear Regression)\",\n",
    "    X, y,\n",
    "    cv = ShuffleSplit(n_splits=100, test_size=0.2),\n",
    "    n_jobs=4,\n",
    "    #ylim=(0.7, 1.01)\n",
    ")"
   ]
  },
  {
   "cell_type": "code",
   "execution_count": 384,
   "metadata": {
    "ExecuteTime": {
     "end_time": "2018-02-02T08:06:53.945615Z",
     "start_time": "2018-02-02T08:06:33.767910Z"
    }
   },
   "outputs": [
    {
     "data": {
      "text/plain": [
       "<module 'matplotlib.pyplot' from '/home/joseph/anaconda3/lib/python3.6/site-packages/matplotlib/pyplot.py'>"
      ]
     },
     "execution_count": 384,
     "metadata": {},
     "output_type": "execute_result"
    },
    {
     "data": {
      "image/png": "[encoded data removed]",
      "text/plain": [
       "<matplotlib.figure.Figure at 0x7f7b30d62cc0>"
      ]
     },
     "metadata": {},
     "output_type": "display_data"
    }
   ],
   "source": [
    "alpha = 0.01\n",
    "degree=2\n",
    "est = make_pipeline(PolynomialFeatures(degree), Ridge(alpha=alpha))\n",
    "plot_learning_curve(\n",
    "    est,\n",
    "    \"Learning Curves (Ridge Regression)\",\n",
    "    X, y,\n",
    "    cv = ShuffleSplit(n_splits=100, test_size=0.2),\n",
    "    n_jobs=4,\n",
    "    #ylim=(0.7, 1.01)\n",
    ")"
   ]
  },
  {
   "cell_type": "code",
   "execution_count": null,
   "metadata": {
    "collapsed": true
   },
   "outputs": [],
   "source": []
  },
  {
   "cell_type": "markdown",
   "metadata": {},
   "source": [
    "### Check for Homoscedasticity"
   ]
  },
  {
   "cell_type": "code",
   "execution_count": 373,
   "metadata": {
    "ExecuteTime": {
     "end_time": "2018-02-02T07:38:41.210790Z",
     "start_time": "2018-02-02T07:38:40.962605Z"
    }
   },
   "outputs": [
    {
     "data": {
      "image/png": "[encoded data removed]",
      "text/plain": [
       "<matplotlib.figure.Figure at 0x7f7b3be377b8>"
      ]
     },
     "metadata": {},
     "output_type": "display_data"
    }
   ],
   "source": [
    "est = make_pipeline(LinearRegression())\n",
    "# Create the train and test data\n",
    "X_train, X_test, y_train, y_test = train_test_split(X[:1000], y[:1000], test_size=0.2)\n",
    "\n",
    "visualizer = ResidualsPlot(est)\n",
    "\n",
    "visualizer.fit(X_train, y_train)  # Fit the training data to the visualizer\n",
    "visualizer.score(X_test, y_test)  # Evaluate the model on the test data\n",
    "visualizer.ax.get_yaxis().set_ticks([])\n",
    "g = visualizer.poof()             # Draw/show/poof the data\n"
   ]
  },
  {
   "cell_type": "code",
   "execution_count": 313,
   "metadata": {
    "ExecuteTime": {
     "end_time": "2018-02-02T05:24:53.301948Z",
     "start_time": "2018-02-02T05:24:49.899079Z"
    }
   },
   "outputs": [
    {
     "data": {
      "image/png": "[encoded data removed]",
      "text/plain": [
       "<matplotlib.figure.Figure at 0x7f7b43b23cf8>"
      ]
     },
     "metadata": {},
     "output_type": "display_data"
    }
   ],
   "source": [
    "alpha = 0.01\n",
    "degree=2\n",
    "est = make_pipeline(PolynomialFeatures(degree), Ridge(alpha=alpha))\n",
    "# Create the train and test data\n",
    "X_train, X_test, y_train, y_test = train_test_split(X, y, test_size=0.2)\n",
    "\n",
    "visualizer = ResidualsPlot(est)\n",
    "\n",
    "visualizer.fit(X_train, y_train)  # Fit the training data to the visualizer\n",
    "visualizer.score(X_test, y_test)  # Evaluate the model on the test data\n",
    "g = visualizer.poof()             # Draw/show/poof the data"
   ]
  },
  {
   "cell_type": "code",
   "execution_count": null,
   "metadata": {
    "collapsed": true
   },
   "outputs": [],
   "source": []
  }
 ],
 "metadata": {
  "kernelspec": {
   "display_name": "Python 3",
   "language": "python",
   "name": "python3"
  },
  "language_info": {
   "codemirror_mode": {
    "name": "ipython",
    "version": 3
   },
   "file_extension": ".py",
   "mimetype": "text/x-python",
   "name": "python",
   "nbconvert_exporter": "python",
   "pygments_lexer": "ipython3",
   "version": "3.6.3"
  },
  "toc": {
   "nav_menu": {},
   "number_sections": true,
   "sideBar": true,
   "skip_h1_title": true,
   "toc_cell": false,
   "toc_position": {},
   "toc_section_display": "block",
   "toc_window_display": true
  },
  "varInspector": {
   "cols": {
    "lenName": 16,
    "lenType": 16,
    "lenVar": 40
   },
   "kernels_config": {
    "python": {
     "delete_cmd_postfix": "",
     "delete_cmd_prefix": "del ",
     "library": "var_list.py",
     "varRefreshCmd": "print(var_dic_list())"
    },
    "r": {
     "delete_cmd_postfix": ") ",
     "delete_cmd_prefix": "rm(",
     "library": "var_list.r",
     "varRefreshCmd": "cat(var_dic_list()) "
    }
   },
   "types_to_exclude": [
    "module",
    "function",
    "builtin_function_or_method",
    "instance",
    "_Feature"
   ],
   "window_display": false
  }
 },
 "nbformat": 4,
 "nbformat_minor": 2
}
