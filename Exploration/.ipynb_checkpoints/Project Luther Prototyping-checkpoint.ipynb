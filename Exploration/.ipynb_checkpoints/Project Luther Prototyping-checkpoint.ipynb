{
 "cells": [
  {
   "cell_type": "markdown",
   "metadata": {},
   "source": [
    "# Project Luther"
   ]
  },
  {
   "cell_type": "code",
   "execution_count": 45,
   "metadata": {
    "ExecuteTime": {
     "end_time": "2018-01-29T04:14:27.854486Z",
     "start_time": "2018-01-29T04:14:27.090076Z"
    }
   },
   "outputs": [
    {
     "name": "stderr",
     "output_type": "stream",
     "text": [
      "/home/joseph/anaconda3/lib/python3.6/site-packages/statsmodels/compat/pandas.py:56: FutureWarning: The pandas.core.datetools module is deprecated and will be removed in a future version. Please use the pandas.tseries module instead.\n",
      "  from pandas.core import datetools\n"
     ]
    }
   ],
   "source": [
    "import numpy as np\n",
    "import pandas as pd\n",
    "\n",
    "import dateutil.parser\n",
    "import datetime\n",
    "from datetime import timedelta\n",
    "import math\n",
    "import calendar\n",
    "\n",
    "import statsmodels.api as sm\n",
    "import statsmodels\n",
    "import seaborn as sns\n",
    "from numpy import linalg\n",
    "import patsy\n",
    "\n",
    "from statsmodels.formula.api import ols\n",
    "\n",
    "import matplotlib.pyplot as plt\n",
    "\n",
    "%matplotlib inline\n"
   ]
  },
  {
   "cell_type": "code",
   "execution_count": null,
   "metadata": {
    "collapsed": true
   },
   "outputs": [],
   "source": []
  },
  {
   "cell_type": "code",
   "execution_count": 4,
   "metadata": {
    "ExecuteTime": {
     "end_time": "2018-01-29T03:47:29.702372Z",
     "start_time": "2018-01-29T03:47:29.664896Z"
    }
   },
   "outputs": [],
   "source": [
    "data = pd.read_csv('lutherbot/will_sample.tsv', sep='\\t',  lineterminator='\\n')"
   ]
  },
  {
   "cell_type": "code",
   "execution_count": 5,
   "metadata": {
    "ExecuteTime": {
     "end_time": "2018-01-29T03:47:30.426944Z",
     "start_time": "2018-01-29T03:47:30.413006Z"
    }
   },
   "outputs": [
    {
     "name": "stdout",
     "output_type": "stream",
     "text": [
      "<class 'pandas.core.frame.DataFrame'>\n",
      "RangeIndex: 5005 entries, 0 to 5004\n",
      "Data columns (total 34 columns):\n",
      "PIN            5005 non-null object\n",
      "PropClass      5005 non-null object\n",
      "Address        5005 non-null object\n",
      "City           5005 non-null object\n",
      "Zip            5005 non-null int64\n",
      "SaleDate       4080 non-null object\n",
      "SaleAmt        4077 non-null object\n",
      "TaxRate        5005 non-null object\n",
      "ASL            5005 non-null object\n",
      "ASFL           5005 non-null object\n",
      "AI             5005 non-null object\n",
      "ASB            5005 non-null object\n",
      "ASFB           5005 non-null object\n",
      "ASTotal        5005 non-null object\n",
      "ASFTotal       5005 non-null object\n",
      "Subdivision    615 non-null object\n",
      "FullBath       1869 non-null float64\n",
      "Style          1806 non-null object\n",
      "HalfBath       1869 non-null float64\n",
      "LivingSqFt     1869 non-null object\n",
      "CentralAir     1869 non-null object\n",
      "BldgSqFt       1869 non-null object\n",
      "Fireplace      1869 non-null object\n",
      "YearBuilt      1846 non-null float64\n",
      "Porch          1869 non-null object\n",
      "Basement       1792 non-null object\n",
      "Attic          1869 non-null object\n",
      "Garage         1869 non-null object\n",
      "Lot            3386 non-null object\n",
      "Block          495 non-null object\n",
      "Unit           402 non-null object\n",
      "Building       99 non-null float64\n",
      "Area           0 non-null float64\n",
      "Status         0 non-null float64\n",
      "dtypes: float64(6), int64(1), object(27)\n",
      "memory usage: 1.3+ MB\n"
     ]
    }
   ],
   "source": [
    "data.info()"
   ]
  },
  {
   "cell_type": "code",
   "execution_count": 6,
   "metadata": {
    "ExecuteTime": {
     "end_time": "2018-01-29T03:47:34.042439Z",
     "start_time": "2018-01-29T03:47:34.016053Z"
    }
   },
   "outputs": [
    {
     "data": {
      "text/html": [
       "<div>\n",
       "<style>\n",
       "    .dataframe thead tr:only-child th {\n",
       "        text-align: right;\n",
       "    }\n",
       "\n",
       "    .dataframe thead th {\n",
       "        text-align: left;\n",
       "    }\n",
       "\n",
       "    .dataframe tbody tr th {\n",
       "        vertical-align: top;\n",
       "    }\n",
       "</style>\n",
       "<table border=\"1\" class=\"dataframe\">\n",
       "  <thead>\n",
       "    <tr style=\"text-align: right;\">\n",
       "      <th></th>\n",
       "      <th>PIN</th>\n",
       "      <th>PropClass</th>\n",
       "      <th>Address</th>\n",
       "      <th>City</th>\n",
       "      <th>Zip</th>\n",
       "      <th>SaleDate</th>\n",
       "      <th>SaleAmt</th>\n",
       "      <th>TaxRate</th>\n",
       "      <th>ASL</th>\n",
       "      <th>ASFL</th>\n",
       "      <th>...</th>\n",
       "      <th>Porch</th>\n",
       "      <th>Basement</th>\n",
       "      <th>Attic</th>\n",
       "      <th>Garage</th>\n",
       "      <th>Lot</th>\n",
       "      <th>Block</th>\n",
       "      <th>Unit</th>\n",
       "      <th>Building</th>\n",
       "      <th>Area</th>\n",
       "      <th>Status</th>\n",
       "    </tr>\n",
       "  </thead>\n",
       "  <tbody>\n",
       "    <tr>\n",
       "      <th>0</th>\n",
       "      <td>02-24-04-304-003-0000</td>\n",
       "      <td>RESIDENTIAL</td>\n",
       "      <td>38 ASPEN LN</td>\n",
       "      <td>BRAIDWOOD</td>\n",
       "      <td>60481</td>\n",
       "      <td>04/01/1998</td>\n",
       "      <td>$15,000</td>\n",
       "      <td>7.2039 (2016)</td>\n",
       "      <td>8,396</td>\n",
       "      <td>0</td>\n",
       "      <td>...</td>\n",
       "      <td>NaN</td>\n",
       "      <td>NaN</td>\n",
       "      <td>NaN</td>\n",
       "      <td>NaN</td>\n",
       "      <td>38</td>\n",
       "      <td>NaN</td>\n",
       "      <td>NaN</td>\n",
       "      <td>NaN</td>\n",
       "      <td>NaN</td>\n",
       "      <td>NaN</td>\n",
       "    </tr>\n",
       "    <tr>\n",
       "      <th>1</th>\n",
       "      <td>02-24-04-304-002-0000</td>\n",
       "      <td>RESIDENTIAL</td>\n",
       "      <td>40 ASPEN LN</td>\n",
       "      <td>BRAIDWOOD</td>\n",
       "      <td>60481</td>\n",
       "      <td>05/01/1999</td>\n",
       "      <td>$58,000</td>\n",
       "      <td>7.2039 (2016)</td>\n",
       "      <td>7,783</td>\n",
       "      <td>0</td>\n",
       "      <td>...</td>\n",
       "      <td>NaN</td>\n",
       "      <td>NaN</td>\n",
       "      <td>NaN</td>\n",
       "      <td>NaN</td>\n",
       "      <td>40</td>\n",
       "      <td>NaN</td>\n",
       "      <td>NaN</td>\n",
       "      <td>NaN</td>\n",
       "      <td>NaN</td>\n",
       "      <td>NaN</td>\n",
       "    </tr>\n",
       "    <tr>\n",
       "      <th>2</th>\n",
       "      <td>02-24-04-304-006-0000</td>\n",
       "      <td>RESIDENTIAL</td>\n",
       "      <td>32 ASPEN LN</td>\n",
       "      <td>BRAIDWOOD</td>\n",
       "      <td>60481</td>\n",
       "      <td>06/01/2016</td>\n",
       "      <td>$18,500</td>\n",
       "      <td>7.2039 (2016)</td>\n",
       "      <td>8,396</td>\n",
       "      <td>0</td>\n",
       "      <td>...</td>\n",
       "      <td>NaN</td>\n",
       "      <td>NaN</td>\n",
       "      <td>NaN</td>\n",
       "      <td>NaN</td>\n",
       "      <td>32</td>\n",
       "      <td>NaN</td>\n",
       "      <td>NaN</td>\n",
       "      <td>NaN</td>\n",
       "      <td>NaN</td>\n",
       "      <td>NaN</td>\n",
       "    </tr>\n",
       "  </tbody>\n",
       "</table>\n",
       "<p>3 rows × 34 columns</p>\n",
       "</div>"
      ],
      "text/plain": [
       "                     PIN    PropClass      Address       City    Zip  \\\n",
       "0  02-24-04-304-003-0000  RESIDENTIAL  38 ASPEN LN  BRAIDWOOD  60481   \n",
       "1  02-24-04-304-002-0000  RESIDENTIAL  40 ASPEN LN  BRAIDWOOD  60481   \n",
       "2  02-24-04-304-006-0000  RESIDENTIAL  32 ASPEN LN  BRAIDWOOD  60481   \n",
       "\n",
       "     SaleDate  SaleAmt        TaxRate    ASL ASFL  ...   Porch Basement Attic  \\\n",
       "0  04/01/1998  $15,000  7.2039 (2016)  8,396    0  ...     NaN      NaN   NaN   \n",
       "1  05/01/1999  $58,000  7.2039 (2016)  7,783    0  ...     NaN      NaN   NaN   \n",
       "2  06/01/2016  $18,500  7.2039 (2016)  8,396    0  ...     NaN      NaN   NaN   \n",
       "\n",
       "  Garage Lot Block  Unit Building  Area Status  \n",
       "0    NaN  38   NaN   NaN      NaN   NaN    NaN  \n",
       "1    NaN  40   NaN   NaN      NaN   NaN    NaN  \n",
       "2    NaN  32   NaN   NaN      NaN   NaN    NaN  \n",
       "\n",
       "[3 rows x 34 columns]"
      ]
     },
     "execution_count": 6,
     "metadata": {},
     "output_type": "execute_result"
    }
   ],
   "source": [
    "data.head(3)"
   ]
  },
  {
   "cell_type": "markdown",
   "metadata": {},
   "source": [
    "We need to do a bit of processing to get something we can work with!"
   ]
  },
  {
   "cell_type": "code",
   "execution_count": 18,
   "metadata": {
    "ExecuteTime": {
     "end_time": "2018-01-29T03:21:59.193202Z",
     "start_time": "2018-01-29T03:21:59.168968Z"
    }
   },
   "outputs": [
    {
     "data": {
      "text/html": [
       "<div>\n",
       "<style>\n",
       "    .dataframe thead tr:only-child th {\n",
       "        text-align: right;\n",
       "    }\n",
       "\n",
       "    .dataframe thead th {\n",
       "        text-align: left;\n",
       "    }\n",
       "\n",
       "    .dataframe tbody tr th {\n",
       "        vertical-align: top;\n",
       "    }\n",
       "</style>\n",
       "<table border=\"1\" class=\"dataframe\">\n",
       "  <thead>\n",
       "    <tr style=\"text-align: right;\">\n",
       "      <th></th>\n",
       "      <th>Zip</th>\n",
       "      <th>FullBath</th>\n",
       "      <th>HalfBath</th>\n",
       "      <th>YearBuilt</th>\n",
       "      <th>Building</th>\n",
       "      <th>Area</th>\n",
       "      <th>Status</th>\n",
       "    </tr>\n",
       "  </thead>\n",
       "  <tbody>\n",
       "    <tr>\n",
       "      <th>Zip</th>\n",
       "      <td>1.000000</td>\n",
       "      <td>0.165290</td>\n",
       "      <td>0.211541</td>\n",
       "      <td>0.112025</td>\n",
       "      <td>NaN</td>\n",
       "      <td>NaN</td>\n",
       "      <td>NaN</td>\n",
       "    </tr>\n",
       "    <tr>\n",
       "      <th>FullBath</th>\n",
       "      <td>0.165290</td>\n",
       "      <td>1.000000</td>\n",
       "      <td>0.386294</td>\n",
       "      <td>0.275379</td>\n",
       "      <td>NaN</td>\n",
       "      <td>NaN</td>\n",
       "      <td>NaN</td>\n",
       "    </tr>\n",
       "    <tr>\n",
       "      <th>HalfBath</th>\n",
       "      <td>0.211541</td>\n",
       "      <td>0.386294</td>\n",
       "      <td>1.000000</td>\n",
       "      <td>0.132142</td>\n",
       "      <td>0.012669</td>\n",
       "      <td>NaN</td>\n",
       "      <td>NaN</td>\n",
       "    </tr>\n",
       "    <tr>\n",
       "      <th>YearBuilt</th>\n",
       "      <td>0.112025</td>\n",
       "      <td>0.275379</td>\n",
       "      <td>0.132142</td>\n",
       "      <td>1.000000</td>\n",
       "      <td>NaN</td>\n",
       "      <td>NaN</td>\n",
       "      <td>NaN</td>\n",
       "    </tr>\n",
       "    <tr>\n",
       "      <th>Building</th>\n",
       "      <td>NaN</td>\n",
       "      <td>NaN</td>\n",
       "      <td>0.012669</td>\n",
       "      <td>NaN</td>\n",
       "      <td>1.000000</td>\n",
       "      <td>NaN</td>\n",
       "      <td>NaN</td>\n",
       "    </tr>\n",
       "    <tr>\n",
       "      <th>Area</th>\n",
       "      <td>NaN</td>\n",
       "      <td>NaN</td>\n",
       "      <td>NaN</td>\n",
       "      <td>NaN</td>\n",
       "      <td>NaN</td>\n",
       "      <td>NaN</td>\n",
       "      <td>NaN</td>\n",
       "    </tr>\n",
       "    <tr>\n",
       "      <th>Status</th>\n",
       "      <td>NaN</td>\n",
       "      <td>NaN</td>\n",
       "      <td>NaN</td>\n",
       "      <td>NaN</td>\n",
       "      <td>NaN</td>\n",
       "      <td>NaN</td>\n",
       "      <td>NaN</td>\n",
       "    </tr>\n",
       "  </tbody>\n",
       "</table>\n",
       "</div>"
      ],
      "text/plain": [
       "                Zip  FullBath  HalfBath  YearBuilt  Building  Area  Status\n",
       "Zip        1.000000  0.165290  0.211541   0.112025       NaN   NaN     NaN\n",
       "FullBath   0.165290  1.000000  0.386294   0.275379       NaN   NaN     NaN\n",
       "HalfBath   0.211541  0.386294  1.000000   0.132142  0.012669   NaN     NaN\n",
       "YearBuilt  0.112025  0.275379  0.132142   1.000000       NaN   NaN     NaN\n",
       "Building        NaN       NaN  0.012669        NaN  1.000000   NaN     NaN\n",
       "Area            NaN       NaN       NaN        NaN       NaN   NaN     NaN\n",
       "Status          NaN       NaN       NaN        NaN       NaN   NaN     NaN"
      ]
     },
     "execution_count": 18,
     "metadata": {},
     "output_type": "execute_result"
    }
   ],
   "source": [
    "data.corr()"
   ]
  },
  {
   "cell_type": "markdown",
   "metadata": {},
   "source": [
    "First, let's filter out rows with no SaleDate since that's our target."
   ]
  },
  {
   "cell_type": "code",
   "execution_count": 7,
   "metadata": {
    "ExecuteTime": {
     "end_time": "2018-01-29T03:47:38.902549Z",
     "start_time": "2018-01-29T03:47:38.896278Z"
    }
   },
   "outputs": [],
   "source": [
    "data = data[data['SaleDate'].notnull()]"
   ]
  },
  {
   "cell_type": "code",
   "execution_count": 8,
   "metadata": {
    "ExecuteTime": {
     "end_time": "2018-01-29T03:47:40.118302Z",
     "start_time": "2018-01-29T03:47:40.111918Z"
    }
   },
   "outputs": [
    {
     "data": {
      "text/plain": [
       "(4080, 34)"
      ]
     },
     "execution_count": 8,
     "metadata": {},
     "output_type": "execute_result"
    }
   ],
   "source": [
    "data.shape"
   ]
  },
  {
   "cell_type": "markdown",
   "metadata": {},
   "source": [
    "Wow.  A 20% drop.  Hmmm..."
   ]
  },
  {
   "cell_type": "code",
   "execution_count": 9,
   "metadata": {
    "ExecuteTime": {
     "end_time": "2018-01-29T03:47:53.829977Z",
     "start_time": "2018-01-29T03:47:53.501309Z"
    }
   },
   "outputs": [],
   "source": [
    "data['SaleDate'] = data['SaleDate'].apply(lambda x: dateutil.parser.parse(x))"
   ]
  },
  {
   "cell_type": "code",
   "execution_count": 10,
   "metadata": {
    "ExecuteTime": {
     "end_time": "2018-01-29T03:48:08.044541Z",
     "start_time": "2018-01-29T03:48:07.726252Z"
    }
   },
   "outputs": [],
   "source": [
    "data['Longevity'] = data['SaleDate'].apply(lambda x: dateutil.parser.parse('2018-01-01') - x)"
   ]
  },
  {
   "cell_type": "code",
   "execution_count": 15,
   "metadata": {
    "ExecuteTime": {
     "end_time": "2018-01-29T03:50:47.548218Z",
     "start_time": "2018-01-29T03:50:47.518970Z"
    }
   },
   "outputs": [],
   "source": [
    "data['Longevity']=data['Longevity'].apply(lambda x: x.total_seconds()/86400.)"
   ]
  },
  {
   "cell_type": "code",
   "execution_count": 20,
   "metadata": {
    "ExecuteTime": {
     "end_time": "2018-01-29T03:53:52.889158Z",
     "start_time": "2018-01-29T03:53:52.877525Z"
    }
   },
   "outputs": [],
   "source": [
    "data['SaleAmt']=data['SaleAmt'].replace('[\\$,]', '', regex=True).astype(float)"
   ]
  },
  {
   "cell_type": "code",
   "execution_count": 23,
   "metadata": {
    "ExecuteTime": {
     "end_time": "2018-01-29T03:59:09.725752Z",
     "start_time": "2018-01-29T03:59:09.719216Z"
    }
   },
   "outputs": [],
   "source": [
    "data['TaxRate']=data['TaxRate'].replace('\\(\\d+\\)', '', regex=True).astype(float)"
   ]
  },
  {
   "cell_type": "code",
   "execution_count": 30,
   "metadata": {
    "ExecuteTime": {
     "end_time": "2018-01-29T04:03:03.138782Z",
     "start_time": "2018-01-29T04:03:03.130042Z"
    }
   },
   "outputs": [],
   "source": [
    "data['ASTotal']=data['ASTotal'].replace('[,]', '', regex=True).astype(float)"
   ]
  },
  {
   "cell_type": "code",
   "execution_count": 31,
   "metadata": {
    "ExecuteTime": {
     "end_time": "2018-01-29T04:03:38.863576Z",
     "start_time": "2018-01-29T04:03:38.842947Z"
    },
    "collapsed": true
   },
   "outputs": [],
   "source": [
    "data['ASFTotal']=data['ASFTotal'].replace('[,]', '', regex=True).astype(float)"
   ]
  },
  {
   "cell_type": "code",
   "execution_count": 37,
   "metadata": {
    "ExecuteTime": {
     "end_time": "2018-01-29T04:07:20.249002Z",
     "start_time": "2018-01-29T04:07:20.241894Z"
    }
   },
   "outputs": [],
   "source": [
    "data['LivingSqFt']=data['LivingSqFt'].replace(' Sq. Feet', '', regex=True).astype(float)"
   ]
  },
  {
   "cell_type": "code",
   "execution_count": 38,
   "metadata": {
    "ExecuteTime": {
     "end_time": "2018-01-29T04:07:37.754624Z",
     "start_time": "2018-01-29T04:07:37.742390Z"
    },
    "collapsed": true
   },
   "outputs": [],
   "source": [
    "data['BldgSqFt']=data['BldgSqFt'].replace(' Sq. Feet', '', regex=True).astype(float)"
   ]
  },
  {
   "cell_type": "code",
   "execution_count": 42,
   "metadata": {
    "ExecuteTime": {
     "end_time": "2018-01-29T04:08:12.889003Z",
     "start_time": "2018-01-29T04:08:12.870490Z"
    }
   },
   "outputs": [
    {
     "data": {
      "text/plain": [
       "Zip           0.049831\n",
       "SaleAmt      -0.101880\n",
       "TaxRate      -0.070002\n",
       "ASTotal       0.008018\n",
       "ASFTotal     -0.001133\n",
       "FullBath      0.006958\n",
       "HalfBath     -0.048548\n",
       "LivingSqFt   -0.006041\n",
       "BldgSqFt     -0.031721\n",
       "YearBuilt    -0.010493\n",
       "Building      0.021693\n",
       "Area               NaN\n",
       "Status             NaN\n",
       "Longevity     1.000000\n",
       "Name: Longevity, dtype: float64"
      ]
     },
     "execution_count": 42,
     "metadata": {},
     "output_type": "execute_result"
    }
   ],
   "source": [
    "data.corr()['Longevity']"
   ]
  },
  {
   "cell_type": "code",
   "execution_count": 56,
   "metadata": {
    "ExecuteTime": {
     "end_time": "2018-01-29T04:21:38.485279Z",
     "start_time": "2018-01-29T04:21:38.481975Z"
    }
   },
   "outputs": [],
   "source": [
    "df2 = data[['Longevity','SaleAmt','TaxRate','ASTotal','ASFTotal','LivingSqFt','BldgSqFt','YearBuilt']]"
   ]
  },
  {
   "cell_type": "code",
   "execution_count": 58,
   "metadata": {
    "ExecuteTime": {
     "end_time": "2018-01-29T04:22:10.329897Z",
     "start_time": "2018-01-29T04:22:10.319913Z"
    }
   },
   "outputs": [],
   "source": [
    "df2=df2[df2.notnull().all(axis=1)]"
   ]
  },
  {
   "cell_type": "code",
   "execution_count": 59,
   "metadata": {
    "ExecuteTime": {
     "end_time": "2018-01-29T04:22:27.470377Z",
     "start_time": "2018-01-29T04:22:27.467015Z"
    }
   },
   "outputs": [
    {
     "data": {
      "text/plain": [
       "(1598, 8)"
      ]
     },
     "execution_count": 59,
     "metadata": {},
     "output_type": "execute_result"
    }
   ],
   "source": [
    "df2.shape"
   ]
  },
  {
   "cell_type": "code",
   "execution_count": 61,
   "metadata": {
    "ExecuteTime": {
     "end_time": "2018-01-29T04:22:55.516002Z",
     "start_time": "2018-01-29T04:22:51.195962Z"
    }
   },
   "outputs": [
    {
     "data": {
      "text/plain": [
       "<seaborn.axisgrid.PairGrid at 0x7f584a258908>"
      ]
     },
     "execution_count": 61,
     "metadata": {},
     "output_type": "execute_result"
    },
    {
     "data": {
      "image/png": "[encoded data removed]",
      "text/plain": [
       "<matplotlib.figure.Figure at 0x7f584a3df4a8>"
      ]
     },
     "metadata": {},
     "output_type": "display_data"
    }
   ],
   "source": [
    "sns.pairplot(df2, size = 1.2, aspect=1.5)"
   ]
  },
  {
   "cell_type": "code",
   "execution_count": 62,
   "metadata": {
    "ExecuteTime": {
     "end_time": "2018-01-29T04:26:10.938430Z",
     "start_time": "2018-01-29T04:26:08.476733Z"
    }
   },
   "outputs": [
    {
     "data": {
      "text/html": [
       "<table class=\"simpletable\">\n",
       "<caption>OLS Regression Results</caption>\n",
       "<tr>\n",
       "  <th>Dep. Variable:</th>        <td>Longevity</td>    <th>  R-squared:         </th> <td>   0.057</td> \n",
       "</tr>\n",
       "<tr>\n",
       "  <th>Model:</th>                   <td>OLS</td>       <th>  Adj. R-squared:    </th> <td>   0.053</td> \n",
       "</tr>\n",
       "<tr>\n",
       "  <th>Method:</th>             <td>Least Squares</td>  <th>  F-statistic:       </th> <td>   16.04</td> \n",
       "</tr>\n",
       "<tr>\n",
       "  <th>Date:</th>             <td>Sun, 28 Jan 2018</td> <th>  Prob (F-statistic):</th> <td>5.48e-18</td> \n",
       "</tr>\n",
       "<tr>\n",
       "  <th>Time:</th>                 <td>22:26:10</td>     <th>  Log-Likelihood:    </th> <td> -14964.</td> \n",
       "</tr>\n",
       "<tr>\n",
       "  <th>No. Observations:</th>      <td>  1598</td>      <th>  AIC:               </th> <td>2.994e+04</td>\n",
       "</tr>\n",
       "<tr>\n",
       "  <th>Df Residuals:</th>          <td>  1591</td>      <th>  BIC:               </th> <td>2.998e+04</td>\n",
       "</tr>\n",
       "<tr>\n",
       "  <th>Df Model:</th>              <td>     6</td>      <th>                     </th>     <td> </td>    \n",
       "</tr>\n",
       "<tr>\n",
       "  <th>Covariance Type:</th>      <td>nonrobust</td>    <th>                     </th>     <td> </td>    \n",
       "</tr>\n",
       "</table>\n",
       "<table class=\"simpletable\">\n",
       "<tr>\n",
       "       <td></td>         <th>coef</th>     <th>std err</th>      <th>t</th>      <th>P>|t|</th>  <th>[0.025</th>    <th>0.975]</th>  \n",
       "</tr>\n",
       "<tr>\n",
       "  <th>Intercept</th>  <td> 6853.1693</td> <td>  867.449</td> <td>    7.900</td> <td> 0.000</td> <td> 5151.707</td> <td> 8554.631</td>\n",
       "</tr>\n",
       "<tr>\n",
       "  <th>SaleAmt</th>    <td>   -0.0037</td> <td>    0.001</td> <td>   -7.281</td> <td> 0.000</td> <td>   -0.005</td> <td>   -0.003</td>\n",
       "</tr>\n",
       "<tr>\n",
       "  <th>TaxRate</th>    <td> -232.6601</td> <td>   68.321</td> <td>   -3.405</td> <td> 0.001</td> <td> -366.670</td> <td>  -98.651</td>\n",
       "</tr>\n",
       "<tr>\n",
       "  <th>ASTotal</th>    <td>    0.0117</td> <td>    0.002</td> <td>    4.719</td> <td> 0.000</td> <td>    0.007</td> <td>    0.017</td>\n",
       "</tr>\n",
       "<tr>\n",
       "  <th>ASFTotal</th>   <td> 9.186e-10</td> <td> 1.16e-10</td> <td>    7.949</td> <td> 0.000</td> <td> 6.92e-10</td> <td> 1.15e-09</td>\n",
       "</tr>\n",
       "<tr>\n",
       "  <th>LivingSqFt</th> <td>    0.2107</td> <td>    0.104</td> <td>    2.030</td> <td> 0.042</td> <td>    0.007</td> <td>    0.414</td>\n",
       "</tr>\n",
       "<tr>\n",
       "  <th>BldgSqFt</th>   <td>   -0.0593</td> <td>    0.090</td> <td>   -0.659</td> <td> 0.510</td> <td>   -0.236</td> <td>    0.117</td>\n",
       "</tr>\n",
       "<tr>\n",
       "  <th>YearBuilt</th>  <td>   -0.2501</td> <td>    0.213</td> <td>   -1.175</td> <td> 0.240</td> <td>   -0.667</td> <td>    0.167</td>\n",
       "</tr>\n",
       "</table>\n",
       "<table class=\"simpletable\">\n",
       "<tr>\n",
       "  <th>Omnibus:</th>       <td>47.475</td> <th>  Durbin-Watson:     </th> <td>   1.808</td>\n",
       "</tr>\n",
       "<tr>\n",
       "  <th>Prob(Omnibus):</th> <td> 0.000</td> <th>  Jarque-Bera (JB):  </th> <td>  50.969</td>\n",
       "</tr>\n",
       "<tr>\n",
       "  <th>Skew:</th>          <td> 0.431</td> <th>  Prob(JB):          </th> <td>8.56e-12</td>\n",
       "</tr>\n",
       "<tr>\n",
       "  <th>Kurtosis:</th>      <td> 2.849</td> <th>  Cond. No.          </th> <td>3.76e+20</td>\n",
       "</tr>\n",
       "</table>"
      ],
      "text/plain": [
       "<class 'statsmodels.iolib.summary.Summary'>\n",
       "\"\"\"\n",
       "                            OLS Regression Results                            \n",
       "==============================================================================\n",
       "Dep. Variable:              Longevity   R-squared:                       0.057\n",
       "Model:                            OLS   Adj. R-squared:                  0.053\n",
       "Method:                 Least Squares   F-statistic:                     16.04\n",
       "Date:                Sun, 28 Jan 2018   Prob (F-statistic):           5.48e-18\n",
       "Time:                        22:26:10   Log-Likelihood:                -14964.\n",
       "No. Observations:                1598   AIC:                         2.994e+04\n",
       "Df Residuals:                    1591   BIC:                         2.998e+04\n",
       "Df Model:                           6                                         \n",
       "Covariance Type:            nonrobust                                         \n",
       "==============================================================================\n",
       "                 coef    std err          t      P>|t|      [0.025      0.975]\n",
       "------------------------------------------------------------------------------\n",
       "Intercept   6853.1693    867.449      7.900      0.000    5151.707    8554.631\n",
       "SaleAmt       -0.0037      0.001     -7.281      0.000      -0.005      -0.003\n",
       "TaxRate     -232.6601     68.321     -3.405      0.001    -366.670     -98.651\n",
       "ASTotal        0.0117      0.002      4.719      0.000       0.007       0.017\n",
       "ASFTotal    9.186e-10   1.16e-10      7.949      0.000    6.92e-10    1.15e-09\n",
       "LivingSqFt     0.2107      0.104      2.030      0.042       0.007       0.414\n",
       "BldgSqFt      -0.0593      0.090     -0.659      0.510      -0.236       0.117\n",
       "YearBuilt     -0.2501      0.213     -1.175      0.240      -0.667       0.167\n",
       "==============================================================================\n",
       "Omnibus:                       47.475   Durbin-Watson:                   1.808\n",
       "Prob(Omnibus):                  0.000   Jarque-Bera (JB):               50.969\n",
       "Skew:                           0.431   Prob(JB):                     8.56e-12\n",
       "Kurtosis:                       2.849   Cond. No.                     3.76e+20\n",
       "==============================================================================\n",
       "\n",
       "Warnings:\n",
       "[1] Standard Errors assume that the covariance matrix of the errors is correctly specified.\n",
       "[2] The smallest eigenvalue is 2.16e-27. This might indicate that there are\n",
       "strong multicollinearity problems or that the design matrix is singular.\n",
       "\"\"\""
      ]
     },
     "execution_count": 62,
     "metadata": {},
     "output_type": "execute_result"
    }
   ],
   "source": [
    "# Create your feature matrix (X) and target vector (y)\n",
    "y, X = patsy.dmatrices('Longevity ~ SaleAmt + TaxRate + ASTotal + ASFTotal + LivingSqFt + BldgSqFt + YearBuilt', data=df2, return_type=\"dataframe\")\n",
    "# Create your model\n",
    "model = sm.OLS(y, X)\n",
    "# Fit your model to your training set\n",
    "fit = model.fit()\n",
    "# Print summary statistics of the model's performance\n",
    "fit.summary()"
   ]
  }
 ],
 "metadata": {
  "kernelspec": {
   "display_name": "Python 3",
   "language": "python",
   "name": "python3"
  },
  "language_info": {
   "codemirror_mode": {
    "name": "ipython",
    "version": 3
   },
   "file_extension": ".py",
   "mimetype": "text/x-python",
   "name": "python",
   "nbconvert_exporter": "python",
   "pygments_lexer": "ipython3",
   "version": "3.6.3"
  },
  "toc": {
   "nav_menu": {},
   "number_sections": true,
   "sideBar": true,
   "skip_h1_title": true,
   "toc_cell": false,
   "toc_position": {},
   "toc_section_display": "block",
   "toc_window_display": false
  },
  "varInspector": {
   "cols": {
    "lenName": 16,
    "lenType": 16,
    "lenVar": 40
   },
   "kernels_config": {
    "python": {
     "delete_cmd_postfix": "",
     "delete_cmd_prefix": "del ",
     "library": "var_list.py",
     "varRefreshCmd": "print(var_dic_list())"
    },
    "r": {
     "delete_cmd_postfix": ") ",
     "delete_cmd_prefix": "rm(",
     "library": "var_list.r",
     "varRefreshCmd": "cat(var_dic_list()) "
    }
   },
   "types_to_exclude": [
    "module",
    "function",
    "builtin_function_or_method",
    "instance",
    "_Feature"
   ],
   "window_display": false
  }
 },
 "nbformat": 4,
 "nbformat_minor": 2
}
